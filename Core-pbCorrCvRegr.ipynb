{
 "cells": [
  {
   "cell_type": "markdown",
   "metadata": {},
   "source": [
    "## Core\n",
    "\n",
    "- Prepare files for flux measurements:\n",
    "\n",
    "    - Primary beam correction\n",
    "    - Convolution to worse resolution\n",
    "    - Regrid to common frame\n",
    "\n"
   ]
  },
  {
   "cell_type": "code",
   "execution_count": 3,
   "metadata": {},
   "outputs": [
    {
     "name": "stdout",
     "output_type": "stream",
     "text": [
      "['FileName', 'Frequency', 'Noise[Jy/beam]', 'ErrPerc']\n",
      "\t+---------+\n",
      "\t Inputs loaded\n",
      "\t+---------+\n"
     ]
    }
   ],
   "source": [
    "import numpy as np\n",
    "from astropy.io import ascii, fits\n",
    "import fluxInt\n",
    "import pbCorr\n",
    "import synCl\n",
    "import convRegr\n",
    "from prettytable import PrettyTable\n",
    "\n",
    "\n",
    "fint = fluxInt.flInt()\n",
    "cvReg = convRegr.cvRegr()\n",
    "pb = pbCorr.pbcorr()\n",
    "syn = synCl.synClean()\n",
    "\n",
    "rootDir = '/home/maccagni/Projects/MFS/FornaxA/contData/Core/'\n",
    "imDir = rootDir+'inIms/'\n",
    "\n",
    "fint.rootdir = rootDir\n",
    "syn.rootdir = rootDir\n",
    "pb.rootdir = rootDir\n",
    "\n",
    "aut='KK'\n",
    "tableName = rootDir+'coreFileNames'+aut+'.tbl'\n",
    "tableFileNames= ascii.read(tableName,format='csv')\n",
    "\n",
    "tableNameOut = rootDir+'coreFileNamesCvRg'+aut+'.tbl'\n",
    "\n",
    "print tableFileNames.colnames\n",
    "\n",
    "print '''\\t+---------+\\n\\t Inputs loaded\\n\\t+---------+'''\n"
   ]
  },
  {
   "cell_type": "code",
   "execution_count": 4,
   "metadata": {},
   "outputs": [
    {
     "name": "stdout",
     "output_type": "stream",
     "text": [
      "['/home/maccagni/Projects/MFS/FornaxA/contData/Core/inIms/Meer_1030MHz_pbcorr.fits'\n",
      " '/home/maccagni/Projects/MFS/FornaxA/contData/Core/inIms/Meer_1440MHz_pbcorr.fits'\n",
      " '/home/maccagni/Projects/MFS/FornaxA/contData/Core/inIms/VLA_4860MHz_pbcorr.fits'\n",
      " '/home/maccagni/Projects/MFS/FornaxA/contData/Core/inIms/VLA_15GhzB_pbcorr.fits'\n",
      " '/home/maccagni/Projects/MFS/FornaxA/contData/Core/inIms/Alma_101GHz.fits'\n",
      " '/home/maccagni/Projects/MFS/FornaxA/contData/Core/inIms/Alma_103GHz.fits'\n",
      " '/home/maccagni/Projects/MFS/FornaxA/contData/Core/inIms/Alma_113GHz.fits']\n",
      "\t+---------+\n",
      "\t Primary beam correction done\n",
      "\t+---------+\n"
     ]
    }
   ],
   "source": [
    "#-------------------------------------------------#\n",
    "# Primary beam correction\n",
    "#-------------------------------------------------#\n",
    "\n",
    "fileNames=np.empty([len(tableFileNames.columns[0])],dtype='object')\n",
    "\n",
    "for i in xrange(0,len(tableFileNames.columns[0])):\n",
    "    fileName = rootDir+tableFileNames.columns[0][i]\n",
    "    if (fileName == '/home/maccagni/Projects/MFS/FornaxA/contData/Core/inIms/Alma_101GHz.fits' or \n",
    "       fileName ==  '/home/maccagni/Projects/MFS/FornaxA/contData/Core/inIms/VLA_1500MHz.fits' or\n",
    "       fileName== '/home/maccagni/Projects/MFS/FornaxA/contData/Core/inIms/Alma_103GHz.fits' or\n",
    "       fileName== '/home/maccagni/Projects/MFS/FornaxA/contData/Core/inIms/Alma_113GHz.fits'):\n",
    "        fileNames[i] = fileName\n",
    "        continue\n",
    "    ff=fits.open(fileName)\n",
    "    dats=ff[0].data\n",
    "    heads=ff[0].header\n",
    "    dats=np.squeeze(dats)\n",
    "    \n",
    "    if i <2:\n",
    "        telescope= 'MeerKAT'\n",
    "    elif i ==2 and i==3:\n",
    "        telescope= 'VLA'\n",
    "    elif i ==4: \n",
    "        telescope = 'ACA'\n",
    "        \n",
    "    fileNamePbCorr = pb.BeamCorrect(fileName,dats,heads,telescope)\n",
    "    fileNames[i] = fileNamePbCorr\n",
    "    \n",
    "print fileNames    \n",
    "print '''\\t+---------+\\n\\t Primary beam correction done\\n\\t+---------+'''\n",
    " "
   ]
  },
  {
   "cell_type": "code",
   "execution_count": 5,
   "metadata": {
    "scrolled": true
   },
   "outputs": [
    {
     "name": "stderr",
     "output_type": "stream",
     "text": [
      "WARNING: MpdafUnitsWarning: Error parsing the BUNIT: 'JY/BEAM' did not parse as unit: At col 0, JY is not a valid unit. Did you mean Jy, YJy, ZJy, yJy or zJy? [mpdaf.obj.data]\n"
     ]
    },
    {
     "name": "stdout",
     "output_type": "stream",
     "text": [
      "[0.00258542 0.00219688] [0.00466484 0.00241739]\n",
      "ddd\n",
      "(3600, 3600)\n",
      "/home/maccagni/Projects/MFS/FornaxA/contData/Core/inIms/Meer_1030MHz_pbcorr_cv.fits\n"
     ]
    },
    {
     "name": "stderr",
     "output_type": "stream",
     "text": [
      "WARNING: AstropyDeprecationWarning: \"clobber\" was deprecated in version 2.0 and will be removed in a future version. Use argument \"overwrite\" instead. [astropy.utils.decorators]\n"
     ]
    },
    {
     "name": "stdout",
     "output_type": "stream",
     "text": [
      "[0.00188841 0.00159888] [0.00466484 0.00241739]\n",
      "ddd\n",
      "(3600, 3600)\n",
      "/home/maccagni/Projects/MFS/FornaxA/contData/Core/inIms/Meer_1440MHz_pbcorr_cv.fits\n",
      "[0.00108611 0.00108611] [0.00466484 0.00241739]\n",
      "ddd\n",
      "(674, 664)\n",
      "/home/maccagni/Projects/MFS/FornaxA/contData/Core/inIms/VLA_4860MHz_pbcorr_cv.fits\n",
      "[0.00113056 0.00113056] [0.00466484 0.00241739]\n",
      "ddd\n",
      "(212, 202)\n",
      "/home/maccagni/Projects/MFS/FornaxA/contData/Core/inIms/VLA_15GhzB_pbcorr_cv.fits\n",
      "[0.00466484 0.00241739] [0.00466484 0.00241739]\n",
      "ccc\n",
      "/home/maccagni/Projects/MFS/FornaxA/contData/Core/inIms/Alma_101GHz.fits\n"
     ]
    },
    {
     "name": "stderr",
     "output_type": "stream",
     "text": [
      "/home/maccagni/programs/anaconda/lib/python2.7/site-packages/reproject/spherical_intersect/core.py:180: RuntimeWarning: divide by zero encountered in true_divide\n",
      "  array_new /= weights\n"
     ]
    },
    {
     "name": "stdout",
     "output_type": "stream",
     "text": [
      "[0.00424951 0.00211456] [0.00466484 0.00241739]\n",
      "ddd\n",
      "(126, 108)\n",
      "/home/maccagni/Projects/MFS/FornaxA/contData/Core/inIms/Alma_103GHz_cv.fits\n",
      "[0.00460143 0.00234351] [0.00466484 0.00241739]\n",
      "ddd\n",
      "(126, 108)\n",
      "/home/maccagni/Projects/MFS/FornaxA/contData/Core/inIms/Alma_113GHz_cv.fits\n",
      "                                       FileName                                       \n",
      "--------------------------------------------------------------------------------------\n",
      "/home/maccagni/Projects/MFS/FornaxA/contData/Core/inIms/Meer_1030MHz_pbcorr_cv_rg.fits\n",
      "/home/maccagni/Projects/MFS/FornaxA/contData/Core/inIms/Meer_1440MHz_pbcorr_cv_rg.fits\n",
      " /home/maccagni/Projects/MFS/FornaxA/contData/Core/inIms/VLA_4860MHz_pbcorr_cv_rg.fits\n",
      "  /home/maccagni/Projects/MFS/FornaxA/contData/Core/inIms/VLA_15GhzB_pbcorr_cv_rg.fits\n",
      "           /home/maccagni/Projects/MFS/FornaxA/contData/Core/inIms/Alma_101GHz_rg.fits\n",
      "        /home/maccagni/Projects/MFS/FornaxA/contData/Core/inIms/Alma_103GHz_cv_rg.fits\n",
      "        /home/maccagni/Projects/MFS/FornaxA/contData/Core/inIms/Alma_113GHz_cv_rg.fits\n",
      "                                       FileName                                       \n",
      "--------------------------------------------------------------------------------------\n",
      "/home/maccagni/Projects/MFS/FornaxA/contData/Core/inIms/Meer_1030MHz_pbcorr_cv_rg.fits\n",
      "/home/maccagni/Projects/MFS/FornaxA/contData/Core/inIms/Meer_1440MHz_pbcorr_cv_rg.fits\n",
      " /home/maccagni/Projects/MFS/FornaxA/contData/Core/inIms/VLA_4860MHz_pbcorr_cv_rg.fits\n",
      "  /home/maccagni/Projects/MFS/FornaxA/contData/Core/inIms/VLA_15GhzB_pbcorr_cv_rg.fits\n",
      "           /home/maccagni/Projects/MFS/FornaxA/contData/Core/inIms/Alma_101GHz_rg.fits\n",
      "        /home/maccagni/Projects/MFS/FornaxA/contData/Core/inIms/Alma_103GHz_cv_rg.fits\n",
      "        /home/maccagni/Projects/MFS/FornaxA/contData/Core/inIms/Alma_113GHz_cv_rg.fits\n",
      "\t+---------+\n",
      "\t Convolution done\n",
      "\t+---------+\n"
     ]
    }
   ],
   "source": [
    "#-------------------------------------------------#\n",
    "# Convolve to worse resolution and reproject\n",
    "#-------------------------------------------------#\n",
    "fileBaseRg = '/home/maccagni/Projects/MFS/FornaxA/contData/Core/inIms/VLA_4860MHz_pbcorr.fits'\n",
    "fileBaseCv = '/home/maccagni/Projects/MFS/FornaxA/contData/Core/inIms/Alma_101GHz.fits'\n",
    "\n",
    "a = fits.open(fileBaseCv)\n",
    "headBeam = a[0].header\n",
    "mainBeam = np.array([headBeam['BMAJ'],headBeam['BMIN']])\n",
    "rgFileNames=[]\n",
    "for i in xrange(0,len(fileNames)):\n",
    "    \n",
    "    fileName = fileNames[i]\n",
    "    #if i == 3:\n",
    "    #    telescope = 'VLAOPT'\n",
    "    #else:\n",
    "    #    telscope= 'good'\n",
    "    \n",
    "    outFile = cvReg.convolve(fileName,mainBeam,telescope)\n",
    "    print outFile\n",
    "    if outFile != fileBaseRg:\n",
    "        rgFileNames.append(cvReg.regrid(fileBaseRg,outFile))\n",
    "    else:\n",
    "        rgFileNames.append(outFile)\n",
    "    \n",
    "    #ableFileNames.columns[0][i] = rgFileNames[i]\n",
    "\n",
    "    #print tableFileNames.columns[0][i]\n",
    "tableFileNames['FileName'] = tableFileNames['FileName'].astype(str)  \n",
    "tableFileNames['FileName'] = rgFileNames\n",
    "print tableFileNames['FileName']\n",
    "#tableFileNames.add_column(rgFileNames, index=0)                                 \n",
    "#tableFileNames.columns[0] =  rgFileNames\n",
    "print tableFileNames.columns[0]\n",
    "ascii.write(tableFileNames,tableNameOut,format='csv', overwrite=True)\n",
    "\n",
    "print '''\\t+---------+\\n\\t Convolution done\\n\\t+---------+'''\n"
   ]
  },
  {
   "cell_type": "code",
   "execution_count": null,
   "metadata": {},
   "outputs": [],
   "source": []
  },
  {
   "cell_type": "code",
   "execution_count": null,
   "metadata": {},
   "outputs": [],
   "source": []
  }
 ],
 "metadata": {
  "anaconda-cloud": {},
  "kernelspec": {
   "display_name": "Python 2",
   "language": "python",
   "name": "python2"
  },
  "language_info": {
   "codemirror_mode": {
    "name": "ipython",
    "version": 2
   },
   "file_extension": ".py",
   "mimetype": "text/x-python",
   "name": "python",
   "nbconvert_exporter": "python",
   "pygments_lexer": "ipython2",
   "version": "2.7.15"
  }
 },
 "nbformat": 4,
 "nbformat_minor": 2
}
