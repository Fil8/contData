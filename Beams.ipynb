{
 "cells": [
  {
   "cell_type": "markdown",
   "metadata": {},
   "source": [
    "## Beams\n",
    "\n",
    "- Measure noise from continuum images"
   ]
  },
  {
   "cell_type": "markdown",
   "metadata": {},
   "source": [
    "We measure the noise of images from 24 frequency intervals, between 84 MHz and 217 GHz."
   ]
  },
  {
   "cell_type": "code",
   "execution_count": 15,
   "metadata": {},
   "outputs": [
    {
     "name": "stdout",
     "output_type": "stream",
     "text": [
      "(1, 1024, 1024)\n",
      "\t+---------+\n",
      "\t Files loaded\n",
      "\t+---------+\n"
     ]
    }
   ],
   "source": [
    "import numpy as np\n",
    "from astropy.io import ascii, fits\n",
    "\n",
    "rootDir = '/home/maccagni/Projects/MFS/FornaxA/contData/synScripts/beams1440/'\n",
    "\n",
    "outDir = '/home/maccagni/Projects/MFS/FornaxA/contData/inIms/'\n",
    "\n",
    "\n",
    "XIm = rootDir+'beams_xx_im.fits'\n",
    "XRe = rootDir+'beams_xx_re.fits'\n",
    "YIm = rootDir+'beams_yy_im.fits'\n",
    "YRe = rootDir+'beams_yy_re.fits'\n",
    "\n",
    "\n",
    "\n",
    "XXFile = fits.open(XIm)\n",
    "xxIm = XXFile[0].data\n",
    "xxHd = XXFile[0].header\n",
    "\n",
    "XXFile = fits.open(XRe)\n",
    "\n",
    "xxRe = XXFile[0].data\n",
    "print xxRe.shape\n",
    "\n",
    "YYFile = fits.open(YIm)\n",
    "yyIm = YYFile[0].data\n",
    "\n",
    "YYFile = fits.open(YRe)\n",
    "yyRe = YYFile[0].data\n",
    "\n",
    "\n",
    "xxHd['CTYPE1'] = 'RA---SIN'\n",
    "xxHd['CRPIX1'] = 512.\n",
    "xxHd['CDELT1'] = -0.005859375\n",
    "xxHd['CRVAL1'] = 50.67375\n",
    "\n",
    "xxHd['EQUINOX'] = 2000\n",
    "\n",
    "del xxHd['CUNIT1']\n",
    "del xxHd['CUNIT2']\n",
    "\n",
    "xxHd['CTYPE2'] = 'DEC--SIN'\n",
    "xxHd['CDELT2'] = 0.005859375\n",
    "xxHd['CRVAL2'] = -37.2083333333333\n",
    "xxHd['CRPIX2'] = 512.\n",
    "\n",
    "#xx = np.sqrt(np.add(np.power(xxIm,2),np.power(xxRe,2)))\n",
    "#yy = np.sqrt(np.add(np.power(yyIm,2),np.power(yyRe,2)))\n",
    "\n",
    "I =(np.power(xxRe,2)+np.power(xxIm,2)+np.power(yyRe,2)+np.power(yyIm,2))/2.\n",
    "#I = (xx+yy)/2.\n",
    "\n",
    "\n",
    "fits.writeto(outDir+'beam1440A.fits',I,xxHd,overwrite=True)\n",
    "\n",
    "print '''\\t+---------+\\n\\t Files loaded\\n\\t+---------+'''"
   ]
  },
  {
   "cell_type": "code",
   "execution_count": 17,
   "metadata": {},
   "outputs": [
    {
     "name": "stdout",
     "output_type": "stream",
     "text": [
      "\t+---------+\n",
      "\t Files loaded\n",
      "\t+---------+\n"
     ]
    }
   ],
   "source": [
    "import numpy as np\n",
    "from astropy.io import ascii, fits\n",
    "\n",
    "rootDir = '/home/maccagni/Projects/MFS/FornaxA/contData/synScripts/beams1030/'\n",
    "\n",
    "outDir = '/home/maccagni/Projects/MFS/FornaxA/contData/inIms/'\n",
    "\n",
    "\n",
    "\n",
    "XIm = rootDir+'beams_xx_im.fits'\n",
    "XRe = rootDir+'beams_xx_re.fits'\n",
    "YIm = rootDir+'beams_yy_im.fits'\n",
    "YRe = rootDir+'beams_yy_re.fits'\n",
    "\n",
    "\n",
    "\n",
    "XXFile = fits.open(XIm)\n",
    "xxIm = XXFile[0].data\n",
    "xxHd = XXFile[0].header\n",
    "\n",
    "XXFile = fits.open(XRe)\n",
    "\n",
    "xxRe = XXFile[0].data\n",
    "\n",
    "YYFile = fits.open(YIm)\n",
    "yyIm = YYFile[0].data\n",
    "\n",
    "YYFile = fits.open(YRe)\n",
    "yyRe = YYFile[0].data\n",
    "\n",
    "\n",
    "\n",
    "I =(np.power(xxRe,2)+np.power(xxIm,2)+np.power(yyRe,2)+np.power(yyIm,2))/2.\n",
    "\n",
    "\n",
    "xxHd['CTYPE1'] = 'RA---SIN'\n",
    "xxHd['CRPIX1'] = 512.\n",
    "xxHd['CDELT1'] = -0.005859375\n",
    "xxHd['CRVAL1'] = 50.67375\n",
    "\n",
    "xxHd['EQUINOX'] = 2000\n",
    "\n",
    "del xxHd['CUNIT1']\n",
    "del xxHd['CUNIT2']\n",
    "\n",
    "xxHd['CTYPE2'] = 'DEC--SIN'\n",
    "xxHd['CDELT2'] = 0.005859375\n",
    "xxHd['CRVAL2'] = -37.2083333333333\n",
    "xxHd['CRPIX2'] = 512.\n",
    "\n",
    "fits.writeto(outDir+'beam1030A.fits',I,xxHd,overwrite=True)\n",
    "\n",
    "print '''\\t+---------+\\n\\t Files loaded\\n\\t+---------+'''"
   ]
  },
  {
   "cell_type": "markdown",
   "metadata": {},
   "source": [
    "**Output tables**:\n",
    "\n",
    "```\n",
    "~/Projects/MFS/FornaxA/contData/noiseFluxes.tbl'\n",
    "\n",
    "```\n"
   ]
  },
  {
   "cell_type": "code",
   "execution_count": 18,
   "metadata": {
    "scrolled": false
   },
   "outputs": [
    {
     "ename": "NameError",
     "evalue": "name 'tableFileNames' is not defined",
     "output_type": "error",
     "traceback": [
      "\u001b[0;31m---------------------------------------------------------------------------\u001b[0m",
      "\u001b[0;31mNameError\u001b[0m                                 Traceback (most recent call last)",
      "\u001b[0;32m<ipython-input-18-b09bcdeed879>\u001b[0m in \u001b[0;36m<module>\u001b[0;34m()\u001b[0m\n\u001b[1;32m      2\u001b[0m             'noiseToT [Jy]', 'noiseEL [Jy]', 'noiseWL [Jy]', 'noiseC [Jy]', 'back [Jy/pix]']\n\u001b[1;32m      3\u001b[0m \u001b[0;34m\u001b[0m\u001b[0m\n\u001b[0;32m----> 4\u001b[0;31m \u001b[0mflCorr\u001b[0m \u001b[0;34m=\u001b[0m \u001b[0mnp\u001b[0m\u001b[0;34m.\u001b[0m\u001b[0marray\u001b[0m\u001b[0;34m(\u001b[0m\u001b[0mtableFileNames\u001b[0m\u001b[0;34m.\u001b[0m\u001b[0mcolumns\u001b[0m\u001b[0;34m[\u001b[0m\u001b[0;36m1\u001b[0m\u001b[0;34m]\u001b[0m\u001b[0;34m,\u001b[0m\u001b[0mdtype\u001b[0m\u001b[0;34m=\u001b[0m\u001b[0mfloat\u001b[0m\u001b[0;34m)\u001b[0m\u001b[0;34m\u001b[0m\u001b[0m\n\u001b[0m\u001b[1;32m      5\u001b[0m \u001b[0merrPerc\u001b[0m\u001b[0;34m=\u001b[0m  \u001b[0mnp\u001b[0m\u001b[0;34m.\u001b[0m\u001b[0marray\u001b[0m\u001b[0;34m(\u001b[0m\u001b[0mtableFileNames\u001b[0m\u001b[0;34m.\u001b[0m\u001b[0mcolumns\u001b[0m\u001b[0;34m[\u001b[0m\u001b[0;36m2\u001b[0m\u001b[0;34m]\u001b[0m\u001b[0;34m,\u001b[0m\u001b[0mdtype\u001b[0m\u001b[0;34m=\u001b[0m\u001b[0mfloat\u001b[0m\u001b[0;34m)\u001b[0m\u001b[0;34m\u001b[0m\u001b[0m\n\u001b[1;32m      6\u001b[0m \u001b[0;34m\u001b[0m\u001b[0m\n",
      "\u001b[0;31mNameError\u001b[0m: name 'tableFileNames' is not defined"
     ]
    }
   ],
   "source": [
    "colNames = ['#Filenames','FlCorr','ErrPerc','rmsT [Jy/pix]', 'rmsEL [Jy/pix]', 'rmsWL [Jy/pix]','rmsC [Jy/pix]',\n",
    "            'noiseToT [Jy]', 'noiseEL [Jy]', 'noiseWL [Jy]', 'noiseC [Jy]', 'back [Jy/pix]']\n",
    "\n",
    "flCorr = np.array(tableFileNames.columns[1],dtype=float)\n",
    "errPerc=  np.array(tableFileNames.columns[2],dtype=float)\n",
    "\n",
    "alldata = np.array([tableFileNames.columns[0],flCorr,errPerc,rmsArray[0,:].T,rmsArray[1,:].T,rmsArray[2,:].T,\n",
    "                    rmsArray[3,:].T,noiseArray[0,:].T,noiseArray[1,:].T,noiseArray[2,:].T,noiseArray[3,:].T,\n",
    "                    backArray[:].T])\n",
    "\n",
    "tt = Table(alldata.T,names=colNames,meta={'name': 'Noise table'})\n",
    "\n",
    "ascii.write(tt,outTable, overwrite=True)\n",
    "\n",
    "t = PrettyTable(colNames)\n",
    "t.add_row(alldata)\n",
    "\n",
    "\n",
    "print t\n",
    "print '''\\t+---------+\\n\\t Tables Saved\\n\\t+---------+'''\n"
   ]
  },
  {
   "cell_type": "code",
   "execution_count": null,
   "metadata": {},
   "outputs": [],
   "source": []
  }
 ],
 "metadata": {
  "kernelspec": {
   "display_name": "Python 2",
   "language": "python",
   "name": "python2"
  },
  "language_info": {
   "codemirror_mode": {
    "name": "ipython",
    "version": 2
   },
   "file_extension": ".py",
   "mimetype": "text/x-python",
   "name": "python",
   "nbconvert_exporter": "python",
   "pygments_lexer": "ipython2",
   "version": "2.7.15"
  }
 },
 "nbformat": 4,
 "nbformat_minor": 2
}
