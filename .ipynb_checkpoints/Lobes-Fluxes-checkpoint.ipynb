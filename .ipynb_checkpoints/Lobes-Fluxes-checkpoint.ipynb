{
 "cells": [
  {
   "cell_type": "markdown",
   "metadata": {},
   "source": [
    "## Lobes\n",
    "\n",
    "- Measure fluxes from different regions at multiple frequencies\n",
    "- The r.m.s. in the input images should be measured in a different notebook and saved to the input table, since for the Planck images we use a different method.\n",
    "- MeerKAT observations must be corrected for the primary beam BEFORE measuring the flux\n",
    "- Planck observations must be converted to the correct units BEFORE measuring the flux\n",
    "- **Delete** old flux tables before repeaing measurement\n"
   ]
  },
  {
   "cell_type": "code",
   "execution_count": 2,
   "metadata": {},
   "outputs": [
    {
     "name": "stdout",
     "output_type": "stream",
     "text": [
      "\t+---------+\n",
      "\t Inputs loaded\n",
      "\t+---------+\n"
     ]
    }
   ],
   "source": [
    "import numpy as np\n",
    "import shutil\n",
    "from astropy.io import ascii, fits\n",
    "import fluxInt\n",
    "import pbCorr\n",
    "import synCl\n",
    "from prettytable import PrettyTable\n",
    "\n",
    "\n",
    "\n",
    "fint = fluxInt.flInt()\n",
    "pb = pbCorr.pbcorr()\n",
    "syn = synCl.synClean()\n",
    "\n",
    "rootDir = '/home/maccagni/Projects/MFS/FornaxA/contData/'\n",
    "regDir = rootDir+'regions/'\n",
    "imDir = rootDir+'inIms/'\n",
    "\n",
    "names = ['ToT','ELobe','WLobe','Core']\n",
    "\n",
    "ToTDir = rootDir+'ToT/'\n",
    "ELobeDir = rootDir+'ELobe/'\n",
    "WLobeDir = rootDir+'WLobe/'\n",
    "\n",
    "\n",
    "fint.rootdir = rootDir\n",
    "syn.rootdir = rootDir\n",
    "pb.rootdir = rootDir\n",
    "\n",
    "\n",
    "tableName = rootDir+'inputFluxTable.tbl'\n",
    "tableFileNames= ascii.read(tableName,format='csv')\n",
    "\n",
    "\n",
    "noiseTableName = rootDir+'noiseFluxInt.tbl'\n",
    "noiseValues= ascii.read(noiseTableName)\n",
    "\n",
    "print '''\\t+---------+\\n\\t Inputs loaded\\n\\t+---------+'''\n"
   ]
  },
  {
   "cell_type": "markdown",
   "metadata": {},
   "source": [
    "We measure the flux in 24 frequency intervals  between 84 MHz and 217 GHz."
   ]
  },
  {
   "cell_type": "code",
   "execution_count": null,
   "metadata": {
    "scrolled": false
   },
   "outputs": [
    {
     "name": "stdout",
     "output_type": "stream",
     "text": [
      "\t Executing FileList+Region Combo\n",
      "0\n",
      "/home/maccagni/Projects/MFS/FornaxA/contData/inIms/MWA_84MHz.fits\n"
     ]
    },
    {
     "name": "stderr",
     "output_type": "stream",
     "text": [
      "WARNING: FITSFixedWarning: 'datfix' made the change 'Invalid parameter value: inconsistent date '2013-11-15''. [astropy.wcs.wcs]\n",
      "/home/maccagni/programs/radiobs/fluxInt.py:134: RuntimeWarning: invalid value encountered in less\n",
      "  index_cut = datas < self.cutoff\n"
     ]
    },
    {
     "name": "stdout",
     "output_type": "stream",
     "text": [
      "/home/maccagni/Projects/MFS/FornaxA/contData/inIms/MWA_84MHz.fits\n",
      "/home/maccagni/Projects/MFS/FornaxA/contData/inIms/MWA_84MHz.fits\n",
      "1\n",
      "/home/maccagni/Projects/MFS/FornaxA/contData/inIms/MWA_105MHz.fits\n",
      "/home/maccagni/Projects/MFS/FornaxA/contData/inIms/MWA_105MHz.fits\n",
      "/home/maccagni/Projects/MFS/FornaxA/contData/inIms/MWA_105MHz.fits\n",
      "2\n",
      "/home/maccagni/Projects/MFS/FornaxA/contData/inIms/MWA_155MHz.fits\n",
      "/home/maccagni/Projects/MFS/FornaxA/contData/inIms/MWA_155MHz.fits\n",
      "/home/maccagni/Projects/MFS/FornaxA/contData/inIms/MWA_155MHz.fits\n",
      "3\n",
      "/home/maccagni/Projects/MFS/FornaxA/contData/inIms/MWA_200MHz.fits\n",
      "/home/maccagni/Projects/MFS/FornaxA/contData/inIms/MWA_200MHz.fits\n",
      "/home/maccagni/Projects/MFS/FornaxA/contData/inIms/MWA_200MHz.fits\n",
      "4\n",
      "/home/maccagni/Projects/MFS/FornaxA/contData/inIms/VLA_320MHz.fits\n",
      "/home/maccagni/Projects/MFS/FornaxA/contData/inIms/VLA_320MHz.fits\n",
      "/home/maccagni/Projects/MFS/FornaxA/contData/inIms/VLA_320MHz.fits\n",
      "5\n"
     ]
    }
   ],
   "source": [
    "totReg = regDir+'ToT.reg'\n",
    "elReg = regDir+'EL.reg'\n",
    "wlReg = regDir+'WL.reg'\n",
    "\n",
    "regions = [totReg, elReg, wlReg]\n",
    "\n",
    "outTables = ['ToT/ToTFluxes.tbl','ELobe/ELFluxes.tbl','WLobe/WLFluxes.tbl']\n",
    "\n",
    "flCorr = np.array(tableFileNames.columns[1],dtype=float)\n",
    "errPerc=  np.array(tableFileNames.columns[2],dtype=float)\n",
    "\n",
    "\n",
    "print '\\t Executing FileList+Region Combo' \n",
    "\n",
    "fr=[]\n",
    "flIntArray= np.zeros([len(regions),len(tableFileNames.columns[0])])\n",
    "flErrArray= np.zeros([len(regions),len(tableFileNames.columns[0])])\n",
    "\n",
    "cutoff= np.zeros([len(tableFileNames.columns[0])])\n",
    "\n",
    "for i in xrange(0,len(tableFileNames.columns[0])):\n",
    "    fileName = imDir+tableFileNames.columns[0][i]\n",
    "\n",
    "    fileName = fint.cleanHead(fileName)\n",
    "    datas,heads = fint.openFile(fileName)\n",
    "    datas=np.squeeze(datas)\n",
    "    \n",
    "    if not 'CDELT2' in heads:\n",
    "        heads['CDELT2'] = heads['CD2_2']\n",
    "        heads['CDELT1'] = heads['CD1_1']\n",
    "    if 'Frequency' in tableFileNames.dtype.names:\n",
    "        freq = float(tableFileNames.columns[1][i])*1e6\n",
    "        fr.append(freq)\n",
    "    elif 'FREQ' in heads:\n",
    "        freq = float(heads['FREQ'])\n",
    "        fr.append(freq)\n",
    "    elif 'CRVAL3' in heads:\n",
    "        freq = float(heads['CRVAL3'])\n",
    "        fr.append(freq)\n",
    "    else:\n",
    "        print fileName\n",
    "\n",
    "    for j in xrange (0,len(regions)):\n",
    "        print fileName\n",
    "        \n",
    "        if j == 0:\n",
    "            maskedDataToT, background, noise, pixels=fint.maskDatReg(datas,heads,regions[j],cutoff[i])\n",
    "            fluxint, numPixBeam =fint.measFlux(maskedDataToT,heads,errPerc[i])\n",
    "            maskedDataEL = maskedDataToT.copy()\n",
    "            maskedDataWL = maskedDataToT.copy()\n",
    "        elif j ==1:\n",
    "            maskedData, background, noise, pixels = fint.maskDatReg(maskedDataEL,heads,regions[j],cutoff[j])\n",
    "            fluxint, numPixBeam =fint.measFlux(maskedData,heads,errPerc[i])\n",
    "        elif j ==2:\n",
    "            maskedData, background, noise, pixels = fint.maskDatReg(maskedDataWL,heads,regions[j],cutoff[j])\n",
    "            fluxint, numPixBeam =fint.measFlux(maskedData,heads,errPerc[i])\n",
    "        \n",
    "        fluxint *= flCorr[i]\n",
    "    \n",
    "        flIntArray[j,i] = fluxint\n",
    "        t,flErr = fint.writeTable(heads,fluxint,noiseValues.columns[6+j][i],numPixBeam,freq,errPerc[i],outTables[j])\n",
    "        flErrArray[j,i] = flErr\n",
    "\n",
    "tName = syn.writeSynageTable(fr,flIntArray[0,:],flErrArray[0,:],'ToT')\n",
    "shutil.move(tName,ToTDir+'synageFl'+'ToT.tbl')\n",
    "\n",
    "tName = syn.writeSynageTable(fr,flIntArray[1,:],flErrArray[1,:],'ELobe')\n",
    "shutil.move(tName,ELobeDir+'synageFl'+'ELobe.tbl')\n",
    "\n",
    "tName = syn.writeSynageTable(fr,flIntArray[2,:],flErrArray[2,:],'WLobe')\n",
    "shutil.move(tName,WLobeDir+'synageFl'+'WLobe.tbl')\n",
    "\n",
    "print '''\\t+---------+\\n\\t Fluxes measured\\n\\t Tables Saved\\n\\t+---------+'''\n",
    "  "
   ]
  },
  {
   "cell_type": "markdown",
   "metadata": {},
   "source": [
    "**Output tables**:\n",
    "\n",
    "```\n",
    "~/Projects/MFS/FornaxA/contData/ToT/ToTFluxes.tbl'\n",
    "~/Projects/MFS/FornaxA/contData/ELobe/ToTFluxes.tbl'\n",
    "~/Projects/MFS/FornaxA/contData/WLobe/ToTFluxes.tbl'\n",
    "\n",
    "~/Projects/MFS/FornaxA/contData/ToT/synageFlToT.tbl'\n",
    "~/Projects/MFS/FornaxA/contData/ELobe/synageFlELobe.tbl'\n",
    "~/Projects/MFS/FornaxA/contData/WLobe/synageFlWLobe.tbl'\n",
    "\n",
    "```\n",
    "\n",
    "**...Run synage to analyse the spectral energy distribution...**\n",
    "\n",
    "```\n",
    "~/programs/synage/SYNAGE\n",
    "cd ToT\n",
    "exec synageToT.script\n",
    "cd ELobe\n",
    "exec synageELobe.script\n",
    "cd WLobe\n",
    "exec synageWLobe.script\n",
    "\n",
    "```\n",
    "\n",
    "**Output SYNAGE tables (in synOut/)**:\n",
    "\n",
    "```\n",
    "ToTCI_point1_fit.dat\n",
    "ToTCIOFF_point1_fit.dat\n",
    "ToTCI.stats\n",
    "ToTCIOFF.stats\n",
    "\n",
    "ELobeCI_point1_fit.dat\n",
    "ELobeCIOFF_point1_fit.dat\n",
    "ELobeCI.stats\n",
    "ELobeCIOFF.stats\n",
    "\n",
    "WLobeCI_point1_fit.dat\n",
    "WLobeCIOFF_point1_fit.dat\n",
    "WLobeCI.stats\n",
    "WLobeCIOFF.stats\n",
    "\n",
    "```\n"
   ]
  },
  {
   "cell_type": "code",
   "execution_count": null,
   "metadata": {
    "collapsed": true
   },
   "outputs": [],
   "source": []
  }
 ],
 "metadata": {
  "kernelspec": {
   "display_name": "Python 2",
   "language": "python",
   "name": "python2"
  },
  "language_info": {
   "codemirror_mode": {
    "name": "ipython",
    "version": 2
   },
   "file_extension": ".py",
   "mimetype": "text/x-python",
   "name": "python",
   "nbconvert_exporter": "python",
   "pygments_lexer": "ipython2",
   "version": "2.7.15"
  }
 },
 "nbformat": 4,
 "nbformat_minor": 2
}
