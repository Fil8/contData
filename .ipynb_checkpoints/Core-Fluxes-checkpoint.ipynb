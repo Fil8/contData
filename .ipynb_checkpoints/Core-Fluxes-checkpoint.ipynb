{
 "cells": [
  {
   "cell_type": "markdown",
   "metadata": {},
   "source": [
    "## Core\n",
    "\n",
    "- Measure fluxes from a region at multiple frequencies\n",
    "\n"
   ]
  },
  {
   "cell_type": "code",
   "execution_count": 1,
   "metadata": {},
   "outputs": [
    {
     "name": "stdout",
     "output_type": "stream",
     "text": [
      "        FileName       \n",
      "-----------------------\n",
      "inIms/Meer_1030MHz.fits\n",
      "inIms/Meer_1440MHz.fits\n",
      " inIms/VLA_1500MHz.fits\n",
      " inIms/VLA_4860MHz.fits\n",
      "   inIms/VLA_15GHz.fits\n",
      " inIms/Alma_115GHz.fits\n",
      "\t+---------+\n",
      "\t Inputs loaded\n",
      "\t+---------+\n"
     ]
    }
   ],
   "source": [
    "import numpy as np\n",
    "from astropy.io import ascii, fits\n",
    "import fluxInt\n",
    "import pbCorr\n",
    "import synCl\n",
    "from prettytable import PrettyTable\n",
    "\n",
    "\n",
    "fint = fluxInt.flInt()\n",
    "\n",
    "pb = pbCorr.pbcorr()\n",
    "syn = synCl.synClean()\n",
    "\n",
    "rootDir = '/home/maccagni/Projects/MFS/FornaxA/contData/Core/'\n",
    "imDir = rootDir+'inIms/'\n",
    "\n",
    "fint.rootdir = rootDir\n",
    "syn.rootdir = rootDir\n",
    "pb.rootdir = rootDir\n",
    "\n",
    "\n",
    "tableName = rootDir+'coreFileNames.tbl'\n",
    "tableFileNames= ascii.read(tableName,format='csv')\n",
    "\n",
    "print tableFileNames.columns[0]\n",
    "\n",
    "print '''\\t+---------+\\n\\t Inputs loaded\\n\\t+---------+'''\n"
   ]
  },
  {
   "cell_type": "markdown",
   "metadata": {},
   "source": [
    "We measure the flux in 6 frequency interval centred at: \n",
    "\n",
    "- 1.030 GHz (MeerKAT)\n",
    "- 1.440 GHz (MeerKAT)\n",
    "- 1.500 GHz (VLA)\n",
    "- 4.800 GHz (VLA)\n",
    "- 14.00 GHz (VLA)\n",
    "- 108.0 GHz (ALMA)\n",
    "\n",
    "\n",
    "We measure the flux in each map at its original spatial resolution. Since the images have very different fields of view, we draw a broad region in the centre that includes the core in all images. We measure as flux all signal above 3$\\cdot$ r.m.s of the image.\n",
    "\n",
    "The noise of the MeerKAT images (and VLA at 1500 MHz) is given in the input table, since it needs to be measured outside the extended radio lobes, that otherwise would be included in the measurement.\n"
   ]
  },
  {
   "cell_type": "code",
   "execution_count": 2,
   "metadata": {},
   "outputs": [
    {
     "name": "stderr",
     "output_type": "stream",
     "text": [
      "WARNING: VerifyWarning: Invalid 'BLANK' keyword in header.  The 'BLANK' keyword is only applicable to integer data, and will be ignored in this HDU. [astropy.io.fits.hdu.image]\n"
     ]
    },
    {
     "name": "stdout",
     "output_type": "stream",
     "text": [
      "['/home/maccagni/Projects/MFS/FornaxA/contData/Core/inIms/Meer_1030MHz_pbcorr.fits'\n",
      " '/home/maccagni/Projects/MFS/FornaxA/contData/Core/inIms/Meer_1440MHz_pbcorr.fits'\n",
      " '/home/maccagni/Projects/MFS/FornaxA/contData/Core/inIms/VLA_1500MHz_pbcorr.fits'\n",
      " '/home/maccagni/Projects/MFS/FornaxA/contData/Core/inIms/VLA_4860MHz_pbcorr.fits'\n",
      " '/home/maccagni/Projects/MFS/FornaxA/contData/Core/inIms/VLA_15GHz_pbcorr.fits'\n",
      " '/home/maccagni/Projects/MFS/FornaxA/contData/Core/inIms/Alma_115GHz_pbcorr.fits']\n",
      "\t+---------+\n",
      "\t Primary beam correction done\n",
      "\t+---------+\n"
     ]
    }
   ],
   "source": [
    "#-------------------------------------------------#\n",
    "# Primary beam correction\n",
    "#-------------------------------------------------#\n",
    "\n",
    "fileNames=np.empty([len(tableFileNames.columns[0])],dtype='object')\n",
    "for i in xrange(0,len(tableFileNames.columns[0])):\n",
    "\n",
    "    fileName = rootDir+tableFileNames.columns[0][i]\n",
    "    if fileName == '/home/maccagni/Projects/MFS/FornaxA/contData/core/inIms/Alma_115GHz.fits':\n",
    "        fileNames[i] = fileName\n",
    "        continue\n",
    "    ff=fits.open(fileName)\n",
    "    dats=ff[0].data\n",
    "    heads=ff[0].header\n",
    "    dats=np.squeeze(dats)\n",
    "    \n",
    "    if i <2:\n",
    "        telescope= 'MeerKAT'\n",
    "    elif i >2 and i< 5:\n",
    "        telescope= 'VLA'\n",
    "        \n",
    "    fileNamePbCorr = pb.BeamCorrect(fileName,dats,heads,telescope)\n",
    "    fileNames[i] = fileNamePbCorr\n",
    "    \n",
    "print fileNames\n",
    "    \n",
    "print '''\\t+---------+\\n\\t Primary beam correction done\\n\\t+---------+'''\n",
    " "
   ]
  },
  {
   "cell_type": "code",
   "execution_count": 3,
   "metadata": {
    "scrolled": false
   },
   "outputs": [
    {
     "name": "stdout",
     "output_type": "stream",
     "text": [
      "\t Executing FileList+Region Combo\n"
     ]
    },
    {
     "name": "stderr",
     "output_type": "stream",
     "text": [
      "WARNING: FITSFixedWarning: The WCS transformation has more axes (4) than the image it is associated with (2) [astropy.wcs.wcs]\n",
      "/home/maccagni/programs/radiobs/fluxInt.py:135: RuntimeWarning: invalid value encountered in less\n",
      "  index_cut = datas < self.cutoff\n"
     ]
    },
    {
     "name": "stdout",
     "output_type": "stream",
     "text": [
      "0.00893308457365\n",
      "0.024774518246647413\n",
      "0.00893308457365\n",
      "0.01826004924047899\n",
      "0.00194422220952\n",
      "0.015827454292305167\n",
      "0.0213232267727\n",
      "0.02193246645340416\n",
      "0.911353762268\n",
      "0.9113538067132231\n",
      "0.0126296136883\n",
      "0.012630499758723565\n",
      "\t+---------+\n",
      "\t Fluxes measured\n",
      "\t+---------+\n"
     ]
    }
   ],
   "source": [
    "region = imDir+'cReg.reg'\n",
    "cutoff = tableFileNames.columns[2]\n",
    "errFlux = 5.\n",
    "print '\\t Executing FileList+Region Combo' \n",
    "\n",
    "fr=[]\n",
    "flIntArray=[]\n",
    "flErrArray=[]\n",
    "\n",
    "for i in xrange(0,len(tableFileNames.columns[0])):\n",
    "\n",
    "    fileName = rootDir+tableFileNames.columns[0][i]\n",
    "#for i in xrange(0,len(fileNames)):\n",
    "    datas,heads = fint.openFile(fileName)\n",
    "    datas=np.squeeze(datas)\n",
    "    heads=fint.cleanHead(heads)\n",
    "    maskedData, background, rms, pixels=fint.maskDatReg(datas,heads,region,cutoff[i])\n",
    "\n",
    "    noiseInt = rms *np.sqrt(pixels)\n",
    "    \n",
    "    if 'Frequency' in tableFileNames.dtype.names:\n",
    "        freq = float(tableFileNames.columns[1][i])*1e6\n",
    "        fr.append(freq)\n",
    "                \n",
    "    fluxint, numPixBeam =fint.measFlux(maskedData,heads,errFlux)\n",
    "    flIntArray.append(fluxint)\n",
    "    \n",
    "    t,flErr = fint.writeTable(heads,fluxint,noiseInt,numPixBeam,freq,errFlux)\n",
    "    flErrArray.append(flErr)\n",
    "\n",
    "    \n",
    "syn.writeSynageTable(fr,flIntArray,flErrArray,'Core')\n",
    "\n",
    "print '''\\t+---------+\\n\\t Fluxes measured\\n\\t+---------+'''\n",
    "  "
   ]
  },
  {
   "cell_type": "markdown",
   "metadata": {},
   "source": [
    "**Output tables**:\n",
    "\n",
    "```\n",
    "~/Projects/MFS/FornaxA/contData/core/integratedFluxes.tbl'\n",
    "~/Projects/MFS/FornaxA/contData/core/synageFlCore.tbl'\n",
    "```\n",
    "\n",
    "**...Run synage to analyse the spectral energy distribution...**\n",
    "\n",
    "```\n",
    "~/programs/synage/SYNAGE\n",
    "exec synageCore.script\n",
    "```\n",
    "\n",
    "**Output SYNAGE tables**:\n",
    "\n",
    "```\n",
    "CiCore_point1_fit.dat\n",
    "CiOFFCore_point1_fit.dat\n",
    "```\n"
   ]
  },
  {
   "cell_type": "code",
   "execution_count": 4,
   "metadata": {},
   "outputs": [
    {
     "ename": "IOError",
     "evalue": "[Errno 2] No such file or directory: '/home/maccagni/Projects/MFS/FornaxA/contData/Core/CoreCI.stats'",
     "output_type": "error",
     "traceback": [
      "\u001b[0;31m---------------------------------------------------------------------------\u001b[0m",
      "\u001b[0;31mIOError\u001b[0m                                   Traceback (most recent call last)",
      "\u001b[0;32m<ipython-input-4-233e9a5785b2>\u001b[0m in \u001b[0;36m<module>\u001b[0;34m()\u001b[0m\n\u001b[0;32m----> 1\u001b[0;31m \u001b[0mstatsCI\u001b[0m \u001b[0;34m=\u001b[0m \u001b[0msyn\u001b[0m\u001b[0;34m.\u001b[0m\u001b[0mreadCIStats\u001b[0m\u001b[0;34m(\u001b[0m\u001b[0mrootDir\u001b[0m\u001b[0;34m+\u001b[0m\u001b[0;34m'CoreCI.stats'\u001b[0m\u001b[0;34m)\u001b[0m\u001b[0;34m\u001b[0m\u001b[0m\n\u001b[0m\u001b[1;32m      2\u001b[0m \u001b[0mstatsCIOFF\u001b[0m \u001b[0;34m=\u001b[0m  \u001b[0msyn\u001b[0m\u001b[0;34m.\u001b[0m\u001b[0mreadCIOFFStats\u001b[0m\u001b[0;34m(\u001b[0m\u001b[0mrootDir\u001b[0m\u001b[0;34m+\u001b[0m\u001b[0;34m'CoreCIOFF.stats'\u001b[0m\u001b[0;34m)\u001b[0m\u001b[0;34m\u001b[0m\u001b[0m\n\u001b[1;32m      3\u001b[0m \u001b[0;34m\u001b[0m\u001b[0m\n\u001b[1;32m      4\u001b[0m \u001b[0mtot\u001b[0m\u001b[0;34m=\u001b[0m \u001b[0mascii\u001b[0m\u001b[0;34m.\u001b[0m\u001b[0mread\u001b[0m\u001b[0;34m(\u001b[0m\u001b[0mrootDir\u001b[0m\u001b[0;34m+\u001b[0m\u001b[0;34m'integratedFluxes.tbl'\u001b[0m\u001b[0;34m,\u001b[0m \u001b[0mfast_reader\u001b[0m\u001b[0;34m=\u001b[0m\u001b[0mFalse\u001b[0m\u001b[0;34m)\u001b[0m\u001b[0;34m\u001b[0m\u001b[0m\n\u001b[1;32m      5\u001b[0m \u001b[0;32mprint\u001b[0m \u001b[0mtot\u001b[0m\u001b[0;34m\u001b[0m\u001b[0m\n",
      "\u001b[0;32m/home/maccagni/programs/radiobs/synCl.pyc\u001b[0m in \u001b[0;36mreadCIStats\u001b[0;34m(self, CI_table)\u001b[0m\n\u001b[1;32m     32\u001b[0m         \u001b[0;32mdef\u001b[0m \u001b[0mreadCIStats\u001b[0m\u001b[0;34m(\u001b[0m\u001b[0mself\u001b[0m\u001b[0;34m,\u001b[0m\u001b[0mCI_table\u001b[0m\u001b[0;34m)\u001b[0m\u001b[0;34m:\u001b[0m\u001b[0;34m\u001b[0m\u001b[0m\n\u001b[1;32m     33\u001b[0m \u001b[0;34m\u001b[0m\u001b[0m\n\u001b[0;32m---> 34\u001b[0;31m                         \u001b[0mtable\u001b[0m \u001b[0;34m=\u001b[0m \u001b[0mascii\u001b[0m\u001b[0;34m.\u001b[0m\u001b[0mread\u001b[0m\u001b[0;34m(\u001b[0m\u001b[0mCI_table\u001b[0m\u001b[0;34m)\u001b[0m\u001b[0;34m\u001b[0m\u001b[0m\n\u001b[0m\u001b[1;32m     35\u001b[0m \u001b[0;34m\u001b[0m\u001b[0m\n\u001b[1;32m     36\u001b[0m                         \u001b[0mmod_chi\u001b[0m \u001b[0;34m=\u001b[0m \u001b[0mfloat\u001b[0m\u001b[0;34m(\u001b[0m\u001b[0mtable\u001b[0m\u001b[0;34m[\u001b[0m\u001b[0;34m'col3'\u001b[0m\u001b[0;34m]\u001b[0m\u001b[0;34m)\u001b[0m\u001b[0;34m\u001b[0m\u001b[0m\n",
      "\u001b[0;32m/home/maccagni/programs/anaconda/lib/python2.7/site-packages/astropy/io/ascii/ui.pyc\u001b[0m in \u001b[0;36mread\u001b[0;34m(table, guess, **kwargs)\u001b[0m\n\u001b[1;32m    323\u001b[0m         \u001b[0;31m# through below to the non-guess way so that any problems result in a\u001b[0m\u001b[0;34m\u001b[0m\u001b[0;34m\u001b[0m\u001b[0m\n\u001b[1;32m    324\u001b[0m         \u001b[0;31m# more useful traceback.\u001b[0m\u001b[0;34m\u001b[0m\u001b[0;34m\u001b[0m\u001b[0m\n\u001b[0;32m--> 325\u001b[0;31m         \u001b[0mdat\u001b[0m \u001b[0;34m=\u001b[0m \u001b[0m_guess\u001b[0m\u001b[0;34m(\u001b[0m\u001b[0mtable\u001b[0m\u001b[0;34m,\u001b[0m \u001b[0mnew_kwargs\u001b[0m\u001b[0;34m,\u001b[0m \u001b[0mformat\u001b[0m\u001b[0;34m,\u001b[0m \u001b[0mfast_reader_param\u001b[0m\u001b[0;34m)\u001b[0m\u001b[0;34m\u001b[0m\u001b[0m\n\u001b[0m\u001b[1;32m    326\u001b[0m         \u001b[0;32mif\u001b[0m \u001b[0mdat\u001b[0m \u001b[0;32mis\u001b[0m \u001b[0mNone\u001b[0m\u001b[0;34m:\u001b[0m\u001b[0;34m\u001b[0m\u001b[0m\n\u001b[1;32m    327\u001b[0m             \u001b[0mguess\u001b[0m \u001b[0;34m=\u001b[0m \u001b[0mFalse\u001b[0m\u001b[0;34m\u001b[0m\u001b[0m\n",
      "\u001b[0;32m/home/maccagni/programs/anaconda/lib/python2.7/site-packages/astropy/io/ascii/ui.pyc\u001b[0m in \u001b[0;36m_guess\u001b[0;34m(table, read_kwargs, format, fast_reader)\u001b[0m\n\u001b[1;32m    471\u001b[0m             \u001b[0mreader\u001b[0m \u001b[0;34m=\u001b[0m \u001b[0mget_reader\u001b[0m\u001b[0;34m(\u001b[0m\u001b[0;34m**\u001b[0m\u001b[0mguess_kwargs\u001b[0m\u001b[0;34m)\u001b[0m\u001b[0;34m\u001b[0m\u001b[0m\n\u001b[1;32m    472\u001b[0m             \u001b[0mreader\u001b[0m\u001b[0;34m.\u001b[0m\u001b[0mguessing\u001b[0m \u001b[0;34m=\u001b[0m \u001b[0mTrue\u001b[0m\u001b[0;34m\u001b[0m\u001b[0m\n\u001b[0;32m--> 473\u001b[0;31m             \u001b[0mdat\u001b[0m \u001b[0;34m=\u001b[0m \u001b[0mreader\u001b[0m\u001b[0;34m.\u001b[0m\u001b[0mread\u001b[0m\u001b[0;34m(\u001b[0m\u001b[0mtable\u001b[0m\u001b[0;34m)\u001b[0m\u001b[0;34m\u001b[0m\u001b[0m\n\u001b[0m\u001b[1;32m    474\u001b[0m             _read_trace.append({'kwargs': guess_kwargs, 'status': 'Success (guessing)',\n\u001b[1;32m    475\u001b[0m                                 'dt': '{0:.3f} ms'.format((time.time() - t0) * 1000)})\n",
      "\u001b[0;32m/home/maccagni/programs/anaconda/lib/python2.7/site-packages/astropy/io/ascii/core.pyc\u001b[0m in \u001b[0;36mread\u001b[0;34m(self, table)\u001b[0m\n\u001b[1;32m   1157\u001b[0m \u001b[0;34m\u001b[0m\u001b[0m\n\u001b[1;32m   1158\u001b[0m         \u001b[0;31m# Get a list of the lines (rows) in the table\u001b[0m\u001b[0;34m\u001b[0m\u001b[0;34m\u001b[0m\u001b[0m\n\u001b[0;32m-> 1159\u001b[0;31m         \u001b[0mself\u001b[0m\u001b[0;34m.\u001b[0m\u001b[0mlines\u001b[0m \u001b[0;34m=\u001b[0m \u001b[0mself\u001b[0m\u001b[0;34m.\u001b[0m\u001b[0minputter\u001b[0m\u001b[0;34m.\u001b[0m\u001b[0mget_lines\u001b[0m\u001b[0;34m(\u001b[0m\u001b[0mtable\u001b[0m\u001b[0;34m)\u001b[0m\u001b[0;34m\u001b[0m\u001b[0m\n\u001b[0m\u001b[1;32m   1160\u001b[0m \u001b[0;34m\u001b[0m\u001b[0m\n\u001b[1;32m   1161\u001b[0m         \u001b[0;31m# Set self.data.data_lines to a slice of lines contain the data rows\u001b[0m\u001b[0;34m\u001b[0m\u001b[0;34m\u001b[0m\u001b[0m\n",
      "\u001b[0;32m/home/maccagni/programs/anaconda/lib/python2.7/site-packages/astropy/io/ascii/core.pyc\u001b[0m in \u001b[0;36mget_lines\u001b[0;34m(self, table)\u001b[0m\n\u001b[1;32m    294\u001b[0m                     ('\\n' not in table + '' and '\\r' not in table + '')):\n\u001b[1;32m    295\u001b[0m                 with get_readable_fileobj(table,\n\u001b[0;32m--> 296\u001b[0;31m                                           encoding=self.encoding) as fileobj:\n\u001b[0m\u001b[1;32m    297\u001b[0m                     \u001b[0mtable\u001b[0m \u001b[0;34m=\u001b[0m \u001b[0mfileobj\u001b[0m\u001b[0;34m.\u001b[0m\u001b[0mread\u001b[0m\u001b[0;34m(\u001b[0m\u001b[0;34m)\u001b[0m\u001b[0;34m\u001b[0m\u001b[0m\n\u001b[1;32m    298\u001b[0m             \u001b[0mlines\u001b[0m \u001b[0;34m=\u001b[0m \u001b[0mtable\u001b[0m\u001b[0;34m.\u001b[0m\u001b[0msplitlines\u001b[0m\u001b[0;34m(\u001b[0m\u001b[0;34m)\u001b[0m\u001b[0;34m\u001b[0m\u001b[0m\n",
      "\u001b[0;32m/home/maccagni/programs/anaconda/lib/python2.7/contextlib.pyc\u001b[0m in \u001b[0;36m__enter__\u001b[0;34m(self)\u001b[0m\n\u001b[1;32m     15\u001b[0m     \u001b[0;32mdef\u001b[0m \u001b[0m__enter__\u001b[0m\u001b[0;34m(\u001b[0m\u001b[0mself\u001b[0m\u001b[0;34m)\u001b[0m\u001b[0;34m:\u001b[0m\u001b[0;34m\u001b[0m\u001b[0m\n\u001b[1;32m     16\u001b[0m         \u001b[0;32mtry\u001b[0m\u001b[0;34m:\u001b[0m\u001b[0;34m\u001b[0m\u001b[0m\n\u001b[0;32m---> 17\u001b[0;31m             \u001b[0;32mreturn\u001b[0m \u001b[0mself\u001b[0m\u001b[0;34m.\u001b[0m\u001b[0mgen\u001b[0m\u001b[0;34m.\u001b[0m\u001b[0mnext\u001b[0m\u001b[0;34m(\u001b[0m\u001b[0;34m)\u001b[0m\u001b[0;34m\u001b[0m\u001b[0m\n\u001b[0m\u001b[1;32m     18\u001b[0m         \u001b[0;32mexcept\u001b[0m \u001b[0mStopIteration\u001b[0m\u001b[0;34m:\u001b[0m\u001b[0;34m\u001b[0m\u001b[0m\n\u001b[1;32m     19\u001b[0m             \u001b[0;32mraise\u001b[0m \u001b[0mRuntimeError\u001b[0m\u001b[0;34m(\u001b[0m\u001b[0;34m\"generator didn't yield\"\u001b[0m\u001b[0;34m)\u001b[0m\u001b[0;34m\u001b[0m\u001b[0m\n",
      "\u001b[0;32m/home/maccagni/programs/anaconda/lib/python2.7/site-packages/astropy/utils/data.pyc\u001b[0m in \u001b[0;36mget_readable_fileobj\u001b[0;34m(name_or_obj, encoding, cache, show_progress, remote_timeout)\u001b[0m\n\u001b[1;32m    204\u001b[0m                 timeout=remote_timeout)\n\u001b[1;32m    205\u001b[0m         \u001b[0;32mif\u001b[0m \u001b[0msix\u001b[0m\u001b[0;34m.\u001b[0m\u001b[0mPY2\u001b[0m\u001b[0;34m:\u001b[0m\u001b[0;34m\u001b[0m\u001b[0m\n\u001b[0;32m--> 206\u001b[0;31m             \u001b[0mfileobj\u001b[0m \u001b[0;34m=\u001b[0m \u001b[0mopen\u001b[0m\u001b[0;34m(\u001b[0m\u001b[0mname_or_obj\u001b[0m\u001b[0;34m,\u001b[0m \u001b[0;34m'rb'\u001b[0m\u001b[0;34m)\u001b[0m\u001b[0;34m\u001b[0m\u001b[0m\n\u001b[0m\u001b[1;32m    207\u001b[0m         \u001b[0;32melse\u001b[0m\u001b[0;34m:\u001b[0m\u001b[0;34m\u001b[0m\u001b[0m\n\u001b[1;32m    208\u001b[0m             \u001b[0mfileobj\u001b[0m \u001b[0;34m=\u001b[0m \u001b[0mio\u001b[0m\u001b[0;34m.\u001b[0m\u001b[0mFileIO\u001b[0m\u001b[0;34m(\u001b[0m\u001b[0mname_or_obj\u001b[0m\u001b[0;34m,\u001b[0m \u001b[0;34m'r'\u001b[0m\u001b[0;34m)\u001b[0m\u001b[0;34m\u001b[0m\u001b[0m\n",
      "\u001b[0;31mIOError\u001b[0m: [Errno 2] No such file or directory: '/home/maccagni/Projects/MFS/FornaxA/contData/Core/CoreCI.stats'"
     ]
    }
   ],
   "source": [
    "statsCI = syn.readCIStats(rootDir+'CoreCI.stats')\n",
    "statsCIOFF =  syn.readCIOFFStats(rootDir+'CoreCIOFF.stats')\n",
    "\n",
    "tot= ascii.read(rootDir+'integratedFluxes.tbl', fast_reader=False)\n",
    "print tot\n",
    "modCI = syn.readCIMod(rootDir+'CICore_point1_fit.dat')\n",
    "modCIOFF = syn.readCIMod(rootDir+'CIOFFCore_point1_fit.dat')\n",
    "\n",
    "CI = PrettyTable(['CI', 'value'])\n",
    "for key, val in statsCI.items():\n",
    "    CI.add_row([key, val])\n",
    "print CI\n",
    "\n",
    "\n",
    "CIOFF = PrettyTable(['CIOFF', 'value'])\n",
    "for key, val in statsCIOFF.items():\n",
    "    CIOFF.add_row([key, val])\n",
    "print CIOFF\n",
    "\n",
    "print '''\\t+---------+\\n\\t Synage results read\\n\\t+---------+'''\n"
   ]
  },
  {
   "cell_type": "code",
   "execution_count": 5,
   "metadata": {},
   "outputs": [
    {
     "name": "stdout",
     "output_type": "stream",
     "text": [
      "\n",
      "\t-----> Loaded <-----\n"
     ]
    }
   ],
   "source": [
    "#-------------------------------------------------#\n",
    "# Plot SED\n",
    "#-------------------------------------------------#\n",
    "from matplotlib import pyplot as plt\n",
    "from matplotlib import rc\n",
    "from matplotlib import gridspec\n",
    "from matplotlib.ticker import AutoMinorLocator, MultipleLocator, LogLocator\n",
    "from matplotlib import transforms as mtransforms\n",
    "\n",
    "def plot_CI_over_CIOFF(tot,mod_CI,mod_CIOFF,statsCI,statsCIOFF,labe,color_plot,sed):\n",
    "\n",
    "    params = {'font.family'         :' serif',\n",
    "              'font.style'          : 'normal',\n",
    "              'font.weight'         : 'book',\n",
    "              'font.size'           : 30.0,\n",
    "              'axes.linewidth'      : 3,\n",
    "              'lines.linewidth'     : 3,\n",
    "              'xtick.labelsize'     : 26,\n",
    "              'ytick.labelsize'     : 26, \n",
    "              'xtick.direction'     :'in',\n",
    "              'ytick.direction'     :'in',\n",
    "              'xtick.top'           : True,   # draw ticks on the top side\n",
    "              'xtick.bottom'        : True,   # draw ticks on the bottom side    \n",
    "              'ytick.left'          : True,   # draw ticks on the top side\n",
    "              'ytick.right'         : True,   # draw ticks on the bottom side  \n",
    "              'xtick.major.size'    : 8,\n",
    "              'xtick.major.width'   : 3,\n",
    "              'xtick.minor.size'    : 4,\n",
    "              'xtick.minor.width'   : 2,\n",
    "              'ytick.major.size'    : 8,\n",
    "              'ytick.major.width'   : 3,\n",
    "              'ytick.minor.size'    : 4,\n",
    "              'ytick.minor.width'   : 2, \n",
    "              'text.usetex'         : True,\n",
    "              'text.latex.unicode'  : True\n",
    "               }\n",
    "    plt.rcParams.update(params)\n",
    "\n",
    "    # initialize figure\n",
    "    fig = plt.figure(figsize =(12,12))\n",
    "    fig.subplots_adjust(hspace=0.0)\n",
    "    gs = gridspec.GridSpec(1, 1)\n",
    "    plt.rc('xtick')\n",
    "\n",
    "\n",
    "    # Initialize subplots\n",
    "    ax1 = fig.add_subplot(gs[0])\n",
    "    ax1.set_xlabel(r'Frequency [MHz]')\n",
    "    ax1.set_ylabel(r'Flux density [Jy]')\n",
    "    #ax1.set_xscale(\"symlog\", nonposx='clip', linthreshy=0.1)\n",
    "    #ax1.set_yscale(\"symlog\", nonposy='clip', linthreshy=0.1)\n",
    "    ax1.set_xscale(\"log\", nonposx='clip')\n",
    "    ax1.set_yscale(\"log\", nonposy='clip')\n",
    "    ax1.set_ylim([1e-3,2e2])\n",
    "    ax1.set_xlim([10,5e5])\n",
    "    ax1.tick_params(axis='both', which='major', pad=5)\n",
    "\n",
    "    #POINTS\n",
    "    print color_plot[0]\n",
    "\n",
    "\n",
    "    \n",
    "    # MODELS\n",
    "    \n",
    "    idx_max = (np.abs(mod_CI[0] - 5e5)).argmin()\n",
    "    idx_min = (np.abs(mod_CI[0] - 30)).argmin()\n",
    "\n",
    "    ax1.plot(mod_CI[0][idx_min:idx_max],mod_CI[1][idx_min:idx_max],lw=3, marker=' ', \n",
    "             color=color_plot[0], linestyle=':',label='CI',alpha=0.5)\n",
    "\n",
    "    idx_br = (np.abs(mod_CI[0] - float(statsCI['break']))).argmin()\n",
    "    ax1.axvline(statsCI['break'],ymin=0,ymax=0.58,ls=':',c=color_plot[0],lw=2,alpha=0.5)\n",
    "\n",
    "    ax1.plot(mod_CIOFF[0][idx_min:idx_max],mod_CIOFF[1][idx_min:idx_max],lw=3, marker=' ', \n",
    "             color=color_plot[1], linestyle='--',label='CIOFF',alpha=0.5)\n",
    "\n",
    "    idx_br = (np.abs(mod_CIOFF[0] - float(statsCIOFF['break']))).argmin()\n",
    "    ax1.axvline(statsCIOFF['break'],ymin=0,ymax=0.55,ls='--',c=color_plot[1],lw=2,alpha=0.5)\n",
    "    \n",
    "    totplot = ax1.errorbar(tot['Frequency [MHz]'],tot['Integrated Flux [Jy]'], yerr=tot['Error [Jy]'],\n",
    "             marker='o', color=color_plot[0], linestyle=' ',label=labe,capsize=6) \n",
    "\n",
    "    totplot[-1][0].set_linestyle('--')\n",
    "    totplot[-1][0].set_linewidth(3)    \n",
    "    #ax1.axvline(br_f_no217,ymin=0,ymax=0.73,ls='-.',c='cyan',lw=1) \n",
    "\n",
    "    legend = plt.legend(loc=1, prop={'size': 20})\n",
    "    legend.get_frame().set_edgecolor('black')\n",
    "\n",
    "    # Save figure to file\n",
    "    #plt.savefig(sed,overwrite = True)\n",
    "\n",
    "\n",
    "print '\\n\\t-----> Loaded <-----'"
   ]
  },
  {
   "cell_type": "code",
   "execution_count": 6,
   "metadata": {
    "scrolled": false
   },
   "outputs": [
    {
     "ename": "NameError",
     "evalue": "name 'tot' is not defined",
     "output_type": "error",
     "traceback": [
      "\u001b[0;31m---------------------------------------------------------------------------\u001b[0m",
      "\u001b[0;31mNameError\u001b[0m                                 Traceback (most recent call last)",
      "\u001b[0;32m<ipython-input-6-6dfd0827510a>\u001b[0m in \u001b[0;36m<module>\u001b[0;34m()\u001b[0m\n\u001b[1;32m      1\u001b[0m \u001b[0moutplot\u001b[0m\u001b[0;34m=\u001b[0m\u001b[0mrootDir\u001b[0m\u001b[0;34m+\u001b[0m\u001b[0;34m'prova_core.png'\u001b[0m\u001b[0;34m\u001b[0m\u001b[0m\n\u001b[0;32m----> 2\u001b[0;31m \u001b[0mplot_CI_over_CIOFF\u001b[0m\u001b[0;34m(\u001b[0m\u001b[0mtot\u001b[0m\u001b[0;34m,\u001b[0m\u001b[0mmodCI\u001b[0m\u001b[0;34m,\u001b[0m\u001b[0mmodCIOFF\u001b[0m\u001b[0;34m,\u001b[0m\u001b[0mstatsCI\u001b[0m\u001b[0;34m,\u001b[0m\u001b[0mstatsCIOFF\u001b[0m\u001b[0;34m,\u001b[0m\u001b[0;34m'Core'\u001b[0m\u001b[0;34m,\u001b[0m\u001b[0;34m[\u001b[0m\u001b[0;34m'green'\u001b[0m\u001b[0;34m,\u001b[0m\u001b[0;34m'darkgreen'\u001b[0m\u001b[0;34m,\u001b[0m\u001b[0;34m'mediumseagreen'\u001b[0m\u001b[0;34m]\u001b[0m\u001b[0;34m,\u001b[0m\u001b[0moutplot\u001b[0m\u001b[0;34m)\u001b[0m\u001b[0;34m\u001b[0m\u001b[0m\n\u001b[0m",
      "\u001b[0;31mNameError\u001b[0m: name 'tot' is not defined"
     ]
    }
   ],
   "source": [
    "outplot=rootDir+'prova_core.png'\n",
    "plot_CI_over_CIOFF(tot,modCI,modCIOFF,statsCI,statsCIOFF,'Core',['green','darkgreen','mediumseagreen'],outplot)"
   ]
  },
  {
   "cell_type": "code",
   "execution_count": null,
   "metadata": {},
   "outputs": [],
   "source": []
  }
 ],
 "metadata": {
  "kernelspec": {
   "display_name": "Python 2",
   "language": "python",
   "name": "python2"
  },
  "language_info": {
   "codemirror_mode": {
    "name": "ipython",
    "version": 2
   },
   "file_extension": ".py",
   "mimetype": "text/x-python",
   "name": "python",
   "nbconvert_exporter": "python",
   "pygments_lexer": "ipython2",
   "version": "2.7.15"
  }
 },
 "nbformat": 4,
 "nbformat_minor": 2
}
