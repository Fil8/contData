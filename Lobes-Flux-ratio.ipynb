{
 "cells": [
  {
   "cell_type": "markdown",
   "metadata": {},
   "source": [
    "## Lobes\n",
    "\n",
    "- Measure fluxes ratio between lobes and adiabatic pressure\n"
   ]
  },
  {
   "cell_type": "code",
   "execution_count": 1,
   "metadata": {},
   "outputs": [
    {
     "name": "stdout",
     "output_type": "stream",
     "text": [
      "\t+---------+\n",
      "\t Inputs loaded\n",
      "\t+---------+\n"
     ]
    }
   ],
   "source": [
    "import numpy as np\n",
    "import shutil\n",
    "from astropy.io import ascii, fits\n",
    "import fluxInt\n",
    "import pbCorr\n",
    "import synCl\n",
    "from prettytable import PrettyTable\n",
    "\n",
    "\n",
    "\n",
    "fint = fluxInt.flInt()\n",
    "pb = pbCorr.pbcorr()\n",
    "syn = synCl.synClean()\n",
    "\n",
    "rootDir = '/home/maccagni/Projects/MFS/FornaxA/contData/'\n",
    "regDir = rootDir+'regions/'\n",
    "imDir = rootDir+'inIms/'\n",
    "\n",
    "\n",
    "ToTDir = rootDir+'ToT/'\n",
    "ELobeDir = rootDir+'ELobe/'\n",
    "WLobeDir = rootDir+'WLobe/'\n",
    "\n",
    "\n",
    "fint.rootdir = rootDir\n",
    "syn.rootdir = rootDir\n",
    "pb.rootdir = rootDir\n",
    "\n",
    "ELobe= ascii.read(ELobeDir+'ELFluxes.tbl', fast_reader=False)\n",
    "WLobe= ascii.read(WLobeDir+'WLFluxes.tbl', fast_reader=False)\n",
    "\n",
    "\n",
    "\n",
    "print '''\\t+---------+\\n\\t Inputs loaded\\n\\t+---------+'''\n"
   ]
  },
  {
   "cell_type": "markdown",
   "metadata": {},
   "source": [
    " - We measure the flux ratio at all frequencies and output the mean.\n",
    " - We output the ratio between the integrated fluxes of the two lobes."
   ]
  },
  {
   "cell_type": "code",
   "execution_count": 2,
   "metadata": {
    "scrolled": false
   },
   "outputs": [
    {
     "name": "stdout",
     "output_type": "stream",
     "text": [
      "\t<S(Wlobe,nu)/S(Elobe,nu)>\t = 1.4912\n",
      "\tSUM(S(Wlobe)/SUM(S(Wlobe)\t = 2.027\n"
     ]
    }
   ],
   "source": [
    "WERatioMean = np.mean(np.divide(WLobe['Integrated Flux [Jy]'], ELobe['Integrated Flux [Jy]']))\n",
    "print '\\t<S(Wlobe,nu)/S(Elobe,nu)>\\t = '+str(np.round(WERatioMean,4)) \n",
    "\n",
    "WERatioSum = np.divide(np.sum(WLobe['Integrated Flux [Jy]']), np.sum(ELobe['Integrated Flux [Jy]']))\n",
    "print '\\tSUM(S(Wlobe)/SUM(S(Wlobe)\\t = '+str(np.round(WERatioSum,4))"
   ]
  },
  {
   "cell_type": "markdown",
   "metadata": {},
   "source": [
    "$$\n",
    "B_s\\propto r_j^{(-10\\alpha+9)/3}v_j^{-(2\\alpha+3)/3}\n",
    "$$\n",
    "\n",
    "where $r_j$ is the  radius of the jet and $v_j$ is the velocity of the jets.\n",
    "\n",
    "Assuming that both jets have the same velocity, the ratio bewteen the radii of jet and counter jet is:\n",
    "\n",
    "$$\n",
    "  \\frac{r(WLobe)}{r(ELobe)} \\propto \\bigg(\\frac{L(WLobe)}{L(ELobe)}\\bigg)^\\frac{10\\alpha_{\\rm W}+9}{3}\n",
    "$$\n"
   ]
  },
  {
   "cell_type": "code",
   "execution_count": 3,
   "metadata": {},
   "outputs": [
    {
     "name": "stdout",
     "output_type": "stream",
     "text": [
      "r(WLobe) /r(ELobe) Mean (Ealpha)  = 0.884646 x\n",
      "r(WLobe) /r(ELobe) Mean (Walpha)  = 0.889834 x\n",
      "r(WLobe) /r(ELobe) SUM (Ealpha)  = 0.805144 x\n",
      "r(WLobe) /r(ELobe) SUM (Walpha)  = 0.813513 x\n",
      "r(WLobe) /r(ELobe) Mean (Ealpha)  = 0.920127 x\n",
      "r(WLobe) /r(ELobe) Mean (Walpha)  = 0.923684 x\n",
      "r(WLobe) /r(ELobe) SUM (Ealpha)  = 0.863122 x\n",
      "r(WLobe) /r(ELobe) SUM (Walpha)  = 0.869032 x\n"
     ]
    }
   ],
   "source": [
    "WRMean = np.power(WERatioMean,(7.*0.6+6.)/3.)\n",
    "Par_brightness_indexE = (7.*0.54+6.)/3.\n",
    "Par_brightness_indexW = (7.*0.61+6.)/3.\n",
    "\n",
    "Perp_brightness_indexE = (10.*0.54+9.)/3.\n",
    "Perp_brightness_indexW = (10.*0.61+9.)/3.\n",
    "\n",
    "\n",
    "print 'r(WLobe) /r(ELobe) Mean (Ealpha)  = {0:4f} x'.format(1./np.power(WERatioMean,1./Par_brightness_indexE))\n",
    "print 'r(WLobe) /r(ELobe) Mean (Walpha)  = {0:4f} x'.format(1./np.power(WERatioMean,1./Par_brightness_indexW))\n",
    "\n",
    "print 'r(WLobe) /r(ELobe) SUM (Ealpha)  = {0:4f} x'.format(1./np.power(WERatioSum,1./Par_brightness_indexE))\n",
    "print 'r(WLobe) /r(ELobe) SUM (Walpha)  = {0:4f} x'.format(1./np.power(WERatioSum,1./Par_brightness_indexW))\n",
    "\n",
    "print 'r(WLobe) /r(ELobe) Mean (Ealpha)  = {0:4f} x'.format(1./np.power(WERatioMean,1./Perp_brightness_indexE))\n",
    "print 'r(WLobe) /r(ELobe) Mean (Walpha)  = {0:4f} x'.format(1./np.power(WERatioMean,1./Perp_brightness_indexW))\n",
    "\n",
    "print 'r(WLobe) /r(ELobe) SUM (Ealpha)  = {0:4f} x'.format(1./np.power(WERatioSum,1./Perp_brightness_indexE))\n",
    "print 'r(WLobe) /r(ELobe) SUM (Walpha)  = {0:4f} x'.format(1./np.power(WERatioSum,1./Perp_brightness_indexW))\n"
   ]
  },
  {
   "cell_type": "code",
   "execution_count": null,
   "metadata": {},
   "outputs": [],
   "source": [
    "np.cos(25.*np.pi/180.)"
   ]
  },
  {
   "cell_type": "code",
   "execution_count": null,
   "metadata": {},
   "outputs": [],
   "source": []
  },
  {
   "cell_type": "code",
   "execution_count": null,
   "metadata": {},
   "outputs": [],
   "source": []
  }
 ],
 "metadata": {
  "anaconda-cloud": {},
  "kernelspec": {
   "display_name": "Python 2",
   "language": "python",
   "name": "python2"
  },
  "language_info": {
   "codemirror_mode": {
    "name": "ipython",
    "version": 2
   },
   "file_extension": ".py",
   "mimetype": "text/x-python",
   "name": "python",
   "nbconvert_exporter": "python",
   "pygments_lexer": "ipython2",
   "version": "2.7.15"
  }
 },
 "nbformat": 4,
 "nbformat_minor": 2
}
