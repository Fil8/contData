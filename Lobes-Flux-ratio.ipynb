{
 "cells": [
  {
   "cell_type": "raw",
   "metadata": {
    "deletable": true,
    "editable": true
   },
   "source": [
    "## Lobes\n",
    "\n",
    "- Measure fluxes ratio between lobes and adiabatic pressure\n"
   ]
  },
  {
   "cell_type": "code",
   "execution_count": 2,
   "metadata": {
    "collapsed": false,
    "deletable": true,
    "editable": true
   },
   "outputs": [
    {
     "name": "stdout",
     "output_type": "stream",
     "text": [
      "\t+---------+\n",
      "\t Inputs loaded\n",
      "\t+---------+\n"
     ]
    }
   ],
   "source": [
    "import numpy as np\n",
    "import shutil\n",
    "from astropy.io import ascii, fits\n",
    "import fluxInt\n",
    "import pbCorr\n",
    "import synCl\n",
    "from prettytable import PrettyTable\n",
    "\n",
    "\n",
    "\n",
    "fint = fluxInt.flInt()\n",
    "pb = pbCorr.pbcorr()\n",
    "syn = synCl.synClean()\n",
    "\n",
    "rootDir = '/Users/maccagni/Projects/MFS/FornaxA/contData/'\n",
    "regDir = rootDir+'regions/'\n",
    "imDir = rootDir+'inIms/'\n",
    "\n",
    "names = ['ToT','ELobe','WLobe','Core']\n",
    "\n",
    "ToTDir = rootDir+'ToT/'\n",
    "ELobeDir = rootDir+'ELobe/'\n",
    "WLobeDir = rootDir+'WLobe/'\n",
    "\n",
    "\n",
    "fint.rootdir = rootDir\n",
    "syn.rootdir = rootDir\n",
    "pb.rootdir = rootDir\n",
    "\n",
    "ToT= ascii.read(ToTDir+'ToTFluxes.tbl', fast_reader=False)\n",
    "ELobe= ascii.read(ELobeDir+'ELFluxes.tbl', fast_reader=False)\n",
    "WLobe= ascii.read(WLobeDir+'WLFluxes.tbl', fast_reader=False)\n",
    "\n",
    "\n",
    "\n",
    "print '''\\t+---------+\\n\\t Inputs loaded\\n\\t+---------+'''\n"
   ]
  },
  {
   "cell_type": "markdown",
   "metadata": {
    "deletable": true,
    "editable": true
   },
   "source": [
    " - We measure the flux ratio at all frequencies and output the mean.\n",
    " - We output the ratio between the integrated fluxes of the two lobes."
   ]
  },
  {
   "cell_type": "code",
   "execution_count": 8,
   "metadata": {
    "collapsed": false,
    "deletable": true,
    "editable": true,
    "scrolled": false
   },
   "outputs": [
    {
     "name": "stdout",
     "output_type": "stream",
     "text": [
      "\t<S(Wlobe,nu)/S(Elobe,nu)>\t = 1.4912\n",
      "\tSUM(S(Wlobe))>/<S(Wlobe)>\t = 2.027\n"
     ]
    }
   ],
   "source": [
    "WERatioMean = np.mean(np.divide(WLobe['Integrated Flux [Jy]'], ELobe['Integrated Flux [Jy]']))\n",
    "print '\\t<S(Wlobe,nu)/S(Elobe,nu)>\\t = '+str(np.round(WERatioMean,4)) \n",
    "\n",
    "WERatioSum = np.divide(np.sum(WLobe['Integrated Flux [Jy]']), np.sum(ELobe['Integrated Flux [Jy]']))\n",
    "print '\\tSUM(S(Wlobe))>/<S(Wlobe)>\\t = '+str(np.round(WERatioSum,4))"
   ]
  },
  {
   "cell_type": "markdown",
   "metadata": {
    "deletable": true,
    "editable": true
   },
   "source": [
    "$$\n",
    "L(\\nu,t)\\propto J_s(\\nu,t)\\times r(t)^3\n",
    "$$\n",
    "\n",
    "where $J_s$ is the source intensity at the time $t$ and frequency $\\nu$.\n",
    "\n",
    "Then, assuming adiabatic expansion and that the lobes have been emitted with the same energy (assuming that J(ELobe) = J(WLobe) holds from $t_0$ (time of the emission) and $t$ (time of the observation), we have the relation between luminosities of the lobes and their radius:\n",
    "\n",
    "$$\n",
    "  \\frac{r(WLobe)}{r(ELobe)} \\propto \\bigg(\\frac{L(WLobe)}{L(ELobe)}\\bigg)^\\frac{1}{3}\n",
    "$$\n"
   ]
  },
  {
   "cell_type": "code",
   "execution_count": 12,
   "metadata": {
    "collapsed": false,
    "deletable": true,
    "editable": true
   },
   "outputs": [
    {
     "name": "stdout",
     "output_type": "stream",
     "text": [
      "r(ELobe) = 0.875298 x r(WLobe)\n"
     ]
    }
   ],
   "source": [
    "WErRatioMean = np.power(WERatioMean,1./3.)\n",
    "\n",
    "print 'r(ELobe) = {0:4f} x r(WLobe)'.format(1./WErRatioMean)\n"
   ]
  },
  {
   "cell_type": "code",
   "execution_count": 14,
   "metadata": {
    "collapsed": false
   },
   "outputs": [
    {
     "data": {
      "text/plain": [
       "0.90630778703664994"
      ]
     },
     "execution_count": 14,
     "metadata": {},
     "output_type": "execute_result"
    }
   ],
   "source": [
    "np.cos(25.*np.pi/180.)"
   ]
  },
  {
   "cell_type": "code",
   "execution_count": null,
   "metadata": {
    "collapsed": true
   },
   "outputs": [],
   "source": []
  }
 ],
 "metadata": {
  "anaconda-cloud": {},
  "kernelspec": {
   "display_name": "Python [default]",
   "language": "python",
   "name": "python2"
  },
  "language_info": {
   "codemirror_mode": {
    "name": "ipython",
    "version": 2
   },
   "file_extension": ".py",
   "mimetype": "text/x-python",
   "name": "python",
   "nbconvert_exporter": "python",
   "pygments_lexer": "ipython2",
   "version": "2.7.15"
  }
 },
 "nbformat": 4,
 "nbformat_minor": 2
}
