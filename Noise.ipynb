{
 "cells": [
  {
   "cell_type": "markdown",
   "metadata": {},
   "source": [
    "## Noise\n",
    "\n",
    "- Measure noise from continuum images"
   ]
  },
  {
   "cell_type": "code",
   "execution_count": 1,
   "metadata": {},
   "outputs": [
    {
     "name": "stdout",
     "output_type": "stream",
     "text": [
      "\t+---------+\n",
      "\t Inputs loaded\n",
      "\t+---------+\n"
     ]
    }
   ],
   "source": [
    "import numpy as np\n",
    "import shutil\n",
    "from astropy.io import ascii, fits\n",
    "import fluxInt\n",
    "import pbCorr\n",
    "import synCl\n",
    "from prettytable import PrettyTable\n",
    "from astropy.table import Table\n",
    "\n",
    "\n",
    "\n",
    "fint = fluxInt.flInt()\n",
    "pb = pbCorr.pbcorr()\n",
    "syn = synCl.synClean()\n",
    "\n",
    "rootDir = '/home/maccagni/Projects/MFS/FornaxA/contData/'\n",
    "regDir = rootDir+'regions/'\n",
    "imDir = rootDir+'inIms/'\n",
    "\n",
    "fint.rootdir = rootDir\n",
    "syn.rootdir = rootDir\n",
    "pb.rootdir = rootDir\n",
    "\n",
    "\n",
    "tableName = rootDir+'inputTable.tbl'\n",
    "tableFileNames= ascii.read(tableName,format='csv')\n",
    "\n",
    "outTable = rootDir+'noiseFluxInt.tbl'\n",
    "\n",
    "print '''\\t+---------+\\n\\t Inputs loaded\\n\\t+---------+'''\n"
   ]
  },
  {
   "cell_type": "markdown",
   "metadata": {},
   "source": [
    "We measure the noise of images from 24 frequency intervals, between 84 MHz and 217 GHz."
   ]
  },
  {
   "cell_type": "code",
   "execution_count": 4,
   "metadata": {
    "scrolled": false
   },
   "outputs": [
    {
     "name": "stdout",
     "output_type": "stream",
     "text": [
      "\t+---------+\n",
      "\t Noise measured\n",
      "\t+---------+\n"
     ]
    }
   ],
   "source": [
    "totReg = regDir+'ToT.reg'\n",
    "elReg = regDir+'EL.reg'\n",
    "wlReg = regDir+'WL.reg'\n",
    "\n",
    "regions = [totReg, elReg, wlReg]\n",
    "\n",
    "errPerc=  np.array(tableFileNames.columns[2],dtype=float)\n",
    "\n",
    "fr=[]\n",
    "rmsArray= np.zeros([len(regions),len(tableFileNames.columns[0])])\n",
    "noiseArray= np.zeros([len(regions),len(tableFileNames.columns[0])])\n",
    "\n",
    "cutoff= np.zeros([len(tableFileNames.columns[0])])\n",
    "\n",
    "for i in xrange(0,15):\n",
    "\n",
    "    fileName = imDir+tableFileNames.columns[0][i]\n",
    "\n",
    "    datas,heads = fint.openFile(fileName)\n",
    "    datas=np.squeeze(datas)\n",
    "    heads=fint.cleanHead(heads)\n",
    "\n",
    "    if not 'CDELT2' in heads:\n",
    "        heads['CDELT2'] = heads['CD2_2']\n",
    "        heads['CDELT1'] = heads['CD1_1']\n",
    "    if 'Frequency' in tableFileNames.dtype.names:\n",
    "        freq = float(tableFileNames.columns[1][i])*1e6\n",
    "        fr.append(freq)\n",
    "    elif 'FREQ' in heads:\n",
    "        freq = float(heads['FREQ'])\n",
    "        fr.append(freq)\n",
    "    elif 'CRVAL3' in heads:\n",
    "        freq = float(heads['CRVAL3'])\n",
    "        fr.append(freq)\n",
    "    else:\n",
    "        print fileName\n",
    "        \n",
    "    beamArea = 2*np.pi*float(heads['BMAJ'])*3600./2.35482*float(heads['BMIN'])*3600./2.35482\n",
    "    pixArea = -float(heads['CDELT2']*3600.)*float(heads['CDELT1']*3600.)\n",
    "    numPixBeam= beamArea/pixArea   \n",
    "    \n",
    "    for j in xrange (0,len(regions)):\n",
    "        \n",
    "        if j==0:\n",
    "            background, rms, pixels = fint.noiseReg(datas,heads,regions[j])\n",
    "        else:\n",
    "            backround, rmsEL, pixels = fint.noiseReg(datas,heads,regions[j])\n",
    "        \n",
    "        noiseArray[j,i] = rms*np.sqrt(pixels)/numPixBeam\n",
    "    \n",
    "    rmsArray[:,i] = rms\n",
    "\n",
    "for i in xrange(15,len(tableFileNames)):\n",
    "\n",
    "    fileName = imDir+tableFileNames.columns[0][i]\n",
    "\n",
    "    datas,heads = fint.openFile(fileName)\n",
    "    datas=np.squeeze(datas)\n",
    "    heads=fint.cleanHead(heads)\n",
    "\n",
    "    if not 'CDELT2' in heads:\n",
    "        heads['CDELT2'] = heads['CD2_2']\n",
    "        heads['CDELT1'] = heads['CD1_1']\n",
    "    if 'Frequency' in tableFileNames.dtype.names:\n",
    "        freq = float(tableFileNames.columns[1][i])*1e6\n",
    "        fr.append(freq)\n",
    "    elif 'FREQ' in heads:\n",
    "        freq = float(heads['FREQ'])\n",
    "        fr.append(freq)\n",
    "    elif 'CRVAL3' in heads:\n",
    "        freq = float(heads['CRVAL3'])\n",
    "        fr.append(freq)\n",
    "    else:\n",
    "        print fileName\n",
    "        \n",
    "    beamArea = 2*np.pi*float(heads['BMAJ'])*3600./2.35482*float(heads['BMIN'])*3600./2.35482\n",
    "    pixArea = -float(heads['CDELT2']*3600.)*float(heads['CDELT1']*3600.)\n",
    "    numPixBeam= beamArea/pixArea   \n",
    "    \n",
    "    for j in xrange (0,len(regions)):\n",
    "        \n",
    "        if j==0:\n",
    "            background, rms, pixels = fint.noiseMultiReg(datas,heads,regDir+'noiseReg/')\n",
    "            rms_or = rms/np.sqrt(pixels)\n",
    "            noiseArray[0,i] = rms/numPixBeam\n",
    "        else:\n",
    "            backround, rmsEL, pixels = fint.noiseReg(datas,heads,regions[j])\n",
    "\n",
    "            noiseArray[j,i] = rms_or*np.sqrt(pixels)/numPixBeam\n",
    "    \n",
    "    rmsArray[:,i] = rms_or\n",
    "    \n",
    "print '''\\t+---------+\\n\\t Noise measured\\n\\t+---------+'''\n",
    "  "
   ]
  },
  {
   "cell_type": "markdown",
   "metadata": {},
   "source": [
    "**Output tables**:\n",
    "\n",
    "```\n",
    "~/Projects/MFS/FornaxA/contData/noiseFluxes.tbl'\n",
    "\n",
    "```\n"
   ]
  },
  {
   "cell_type": "code",
   "execution_count": 3,
   "metadata": {},
   "outputs": [
    {
     "name": "stdout",
     "output_type": "stream",
     "text": [
      "+--------------------------------------------------------------------------+-------------------------------------------------------------------------+---------------------------------------------------------------------------+-----------------------------------------------------------------------+-----------------------------------------------------------------------+-----------------------------------------------------------------------+----------------------------------------------------------------------+--------------------------------------------------------------------+------------------------------------------------------------------------+\n",
      "|                                #Filenames                                |                                  FlCorr                                 |                                  ErrPerc                                  |                            rmsT [mJy/beam]                            |                            rmsEL [mJy/beam]                           |                            rmsWL [mJy/beam]                           |                            noiseToT [Jy]                             |                            noiseEL [Jy]                            |                              noiseWL [Jy]                              |\n",
      "+--------------------------------------------------------------------------+-------------------------------------------------------------------------+---------------------------------------------------------------------------+-----------------------------------------------------------------------+-----------------------------------------------------------------------+-----------------------------------------------------------------------+----------------------------------------------------------------------+--------------------------------------------------------------------+------------------------------------------------------------------------+\n",
      "| ['MWA_84MHz.fits' 'MWA_105MHz.fits' 'MWA_155MHz.fits' 'MWA_200MHz.fits'  | ['1.325' '1.325' '1.325' '1.325' '1.47' '1.0' '1.0' '1.0' '1.05' '1.05' |   ['20.0' '20.0' '20.0' '20.0' '5.0' '5.0' '5.0' '5.0' '5.0' '5.0' '5.0'  |    ['0.2557152131100155' '0.1357375356018004' '0.05031479338518403'   |    ['0.2557152131100155' '0.1357375356018004' '0.05031479338518403'   |    ['0.2557152131100155' '0.1357375356018004' '0.05031479338518403'   |  ['0.6483985560277333' '0.49092705883442894' '0.23291810930961665'   | ['0.46426122744155723' '0.35147227943438814' '0.16669592916714068' |    ['0.4335815843957489' '0.3282896463925154' '0.1558300000026595'     |\n",
      "|         'VLA_320MHz.fits' 'Meer_1030MHz.fits' 'Meer_1440MHz.fits'        |  '1.05' '1.05' '1.05' '1.05' '1.05' '1.0' '1.0' '1.0' '1.0' '1.0' '1.0' |  '5.0' '5.0' '5.0' '5.0' '15.0' '15.0' '15.0' '15.0' '15.0' '15.0' '15.0' |  '0.053586327494193425' '0.00641595758497715' '0.0004907893328650172' |  '0.053586327494193425' '0.00641595758497715' '0.0004907893328650172' |  '0.053586327494193425' '0.00641595758497715' '0.0004907893328650172' |   '0.28524525541413803' '0.06903058841003548' '0.0465556169835186'   |  '0.20418265146587516' '0.04940649054383553' '0.03332035918170848' |   '0.19086207147358863' '0.046183613773237715' '0.031145727606777106'  |\n",
      "|         'VLA_1500MHz.fits' 'SRT_5700MHz.fits' 'SRT_5900MHz.fits'         |                            '1.0' '1.0' '1.0']                           |                               '15.0' '15.0']                              |  '0.0012652722745431974' '3.53688195538996e-14' '0.01899816346700661' |  '0.0012652722745431974' '3.53688195538996e-14' '0.01899816346700661' |  '0.0012652722745431974' '3.53688195538996e-14' '0.01899816346700661' |  '0.22578091991733779' '3.771636142594173e-12' '0.07024023424751531' |  '0.1615938491521989' '2.69723210048595e-12' '0.05030971269361264' |  '0.15104753166610235' '2.6150281486640037e-12' '0.046989481623908945' |\n",
      "|         'SRT_6100MHz.fits' 'SRT_6300MHz.fits' 'SRT_6500MHz.fits'         |                                                                         |                                                                           |   '0.019342332797651476' '0.017526291585485576' '0.01721301603503649' |   '0.019342332797651476' '0.017526291585485576' '0.01721301603503649' |   '0.019342332797651476' '0.017526291585485576' '0.01721301603503649' |   '0.07661917905113796' '0.07421203189146171' '0.07774324998561291'  |  '0.0548786450697176' '0.05315452095037296' '0.05568376319562528'  |   '0.05125688353167465' '0.04964654440855799' '0.052008867221440734'   |\n",
      "|  'SRT_6700MHz.fits' 'SRT_6874MHz.fits' 'LFI_30GHz.fits' 'LFI_44GHz.fits' |                                                                         |                                                                           |   '0.01753601839614271' '0.01829173482740723' '0.016669230803400794'  |   '0.01753601839614271' '0.01829173482740723' '0.016669230803400794'  |   '0.01753601839614271' '0.01829173482740723' '0.016669230803400794'  |   '0.08431062823152863' '0.09343920225917782' '0.08963120502541785'  |  '0.060387661413532884' '0.066926021394154' '0.06419853551912913'  |    '0.05640232778873136' '0.06250918329854037' '0.05996170010807836'   |\n",
      "|  'LFI_70GHz.fits' 'HFI_100GHz.fits' 'HFI_143GHz.fits' 'HFI_217GHz.fits'  |                                                                         |                                                                           |      '2.576283119503471' '1.7594876573804077' '0.8559254409302326'    |      '2.576283119503471' '1.7594876573804077' '0.8559254409302326'    |      '2.576283119503471' '1.7594876573804077' '0.8559254409302326'    |    '0.1442195748721858' '0.1403755946586703' '0.28357427370094757'   |  '0.10332747378620853' '0.10057341793006877' '0.20316946127629154' |    '0.09655182847339029' '0.09397836839656383' '0.18984672960036963'   |\n",
      "|          'HFI_353GHz.fits' 'HFI_545GHz.fits' 'HFI_857GHz.fits']          |                                                                         |                                                                           |    '0.43591731489449637' '0.41019045281043975' '0.3584071318205505'   |    '0.43591731489449637' '0.41019045281043975' '0.3584071318205505'   |    '0.43591731489449637' '0.41019045281043975' '0.3584071318205505'   |    '0.2723035079434714' '0.45430019812392897' '0.8374700784950836'   |   '0.1950944149146016' '0.3254876590388062' '0.6000133314712996'   |     '0.1823012002008826' '0.30414397520976416' '0.5606677695598209'    |\n",
      "|                                                                          |                                                                         |                                                                           |      '0.9011223813410013' '2.5045399286865666' '4.83736959017808']    |      '0.9011223813410013' '2.5045399286865666' '4.83736959017808']    |      '0.9011223813410013' '2.5045399286865666' '4.83736959017808']    |     '2.2586239695628194' '6.64750830709166' '15.046337326769086']    |   '1.6182124320830575' '4.762669983969608' '10.780090199877735']   |     '1.5120989941093983' '4.450360378683477' '10.073191395928571']     |\n",
      "+--------------------------------------------------------------------------+-------------------------------------------------------------------------+---------------------------------------------------------------------------+-----------------------------------------------------------------------+-----------------------------------------------------------------------+-----------------------------------------------------------------------+----------------------------------------------------------------------+--------------------------------------------------------------------+------------------------------------------------------------------------+\n",
      "\t+---------+\n",
      "\t Tables Saved\n",
      "\t+---------+\n"
     ]
    }
   ],
   "source": [
    "colNames = ['#Filenames','FlCorr','ErrPerc','rmsT [mJy/beam]', 'rmsEL [mJy/beam]', 'rmsWL [mJy/beam]',\n",
    "            'noiseToT [Jy]', 'noiseEL [Jy]', 'noiseWL [Jy]']\n",
    "\n",
    "flCorr = np.array(tableFileNames.columns[1],dtype=float)\n",
    "errPerc=  np.array(tableFileNames.columns[2],dtype=float)\n",
    "\n",
    "alldata = np.array([tableFileNames.columns[0],flCorr,errPerc,rmsArray[0,:].T,rmsArray[1,:].T,rmsArray[2,:].T,\n",
    "                    noiseArray[0,:].T,noiseArray[1,:].T,noiseArray[2,:].T])\n",
    "\n",
    "tt = Table(alldata.T,names=colNames,meta={'name': 'Noise table'})\n",
    "\n",
    "ascii.write(tt,outTable, overwrite=True)\n",
    "\n",
    "t = PrettyTable(colNames)\n",
    "t.add_row(alldata)\n",
    "\n",
    "\n",
    "print t\n",
    "print '''\\t+---------+\\n\\t Tables Saved\\n\\t+---------+'''\n"
   ]
  },
  {
   "cell_type": "code",
   "execution_count": null,
   "metadata": {},
   "outputs": [],
   "source": []
  }
 ],
 "metadata": {
  "kernelspec": {
   "display_name": "Python 2",
   "language": "python",
   "name": "python2"
  },
  "language_info": {
   "codemirror_mode": {
    "name": "ipython",
    "version": 2
   },
   "file_extension": ".py",
   "mimetype": "text/x-python",
   "name": "python",
   "nbconvert_exporter": "python",
   "pygments_lexer": "ipython2",
   "version": "2.7.15"
  }
 },
 "nbformat": 4,
 "nbformat_minor": 2
}
