{
 "cells": [
  {
   "cell_type": "markdown",
   "metadata": {},
   "source": [
    "## Noise\n",
    "\n",
    "- Measure noise from continuum images"
   ]
  },
  {
   "cell_type": "markdown",
   "metadata": {},
   "source": [
    "We measure the noise of images from 24 frequency intervals, between 84 MHz and 217 GHz."
   ]
  },
  {
   "cell_type": "code",
   "execution_count": 18,
   "metadata": {},
   "outputs": [
    {
     "name": "stdout",
     "output_type": "stream",
     "text": [
      "\t+---------+\n",
      "\t Inputs loaded\n",
      "\t+---------+\n"
     ]
    }
   ],
   "source": [
    "import numpy as np\n",
    "import shutil\n",
    "from astropy.io import ascii, fits\n",
    "import fluxInt\n",
    "import pbCorr\n",
    "import synCl\n",
    "from prettytable import PrettyTable\n",
    "from astropy.table import Table\n",
    "\n",
    "fint = fluxInt.flInt()\n",
    "pb = pbCorr.pbcorr()\n",
    "syn = synCl.synClean()\n",
    "\n",
    "rootDir = '/home/maccagni/Projects/MFS/FornaxA/contData/'\n",
    "regDir = rootDir+'inIms/regions/'\n",
    "imDir = rootDir+'inIms/'\n",
    "inTabs = rootDir+'inTabs/'\n",
    "\n",
    "fint.rootdir = rootDir\n",
    "syn.rootdir = rootDir\n",
    "pb.rootdir = rootDir\n",
    "\n",
    "aut = 'FgCv'\n",
    "\n",
    "tableName = inTabs+'inputFluxTable'+aut+'.tbl'\n",
    "tableFileNames= ascii.read(tableName,format='csv')\n",
    "\n",
    "outTable = inTabs+'noiseFluxInt'+aut+'.tbl'\n",
    "frList = [ 84.0,114.5,200.5, 320.0,1029.9794921,1440.5292968,1500.0,\n",
    "      5700.0,5900.0,6100.0,6300.0,6500.0,6700.0,6874.0,100000.0,143000.0, 217000.0]\n",
    "#frList = [ 84.0,114.5,155,200.5, 320.0,1029.9794921,1440.5292968,1500.0,\n",
    "#      5700.0,5900.0,6100.0,6300.0,6500.0,6700.0,6874.0,\n",
    "#          30000.0,44000.0,70000.0,100000.0,143000.0, 217000.0,353000.0,545000.0,857000.0]\n",
    "print '''\\t+---------+\\n\\t Inputs loaded\\n\\t+---------+'''\n"
   ]
  },
  {
   "cell_type": "code",
   "execution_count": 19,
   "metadata": {},
   "outputs": [
    {
     "name": "stdout",
     "output_type": "stream",
     "text": [
      "1.43e+11\n",
      "3600.0\n",
      "30\n",
      "30.0\n",
      "0.0008443716478583443 0.03613582440818606\n",
      "1.4941555115962555\n",
      "2.17e+11\n",
      "3600.0\n",
      "30\n",
      "30.0\n",
      "0.000656461309732984 0.03169411490857978\n",
      "1.3104983005477446\n",
      "\t+---------+\n",
      "\t Noise measured\n",
      "\t+---------+\n"
     ]
    }
   ],
   "source": [
    "totReg = regDir+'ToT.reg'\n",
    "elReg = regDir+'EL.reg'\n",
    "wlReg = regDir+'WL.reg'\n",
    "\n",
    "regions = [totReg, elReg, wlReg]\n",
    "\n",
    "errPerc=  np.array(tableFileNames.columns[2],dtype=float)\n",
    "\n",
    "fr=[]\n",
    "rmsArray= np.zeros([len(regions),len(tableFileNames.columns[0])])\n",
    "noiseArray= np.zeros([len(regions),len(tableFileNames.columns[0])])\n",
    "\n",
    "cutoff= np.zeros([len(tableFileNames.columns[0])])\n",
    "\n",
    "for i in xrange(0,15):\n",
    "\n",
    "    fileName = imDir+tableFileNames.columns[0][i]\n",
    "\n",
    "    datas,heads = fint.openFile(fileName)\n",
    "    datas=np.squeeze(datas)\n",
    "    heads=fint.cleanHead(heads)\n",
    "\n",
    "    if not 'CDELT2' in heads:\n",
    "        heads['CDELT2'] = heads['CD2_2']\n",
    "        heads['CDELT1'] = heads['CD1_1']\n",
    "    #if 'Frequency' in tableFileNames.dtype.names:\n",
    "    #    freq = float(tableFileNames.columns[1][i])*1e6\n",
    "    #    fr.append(freq)\n",
    "    #elif 'FREQ' in heads:\n",
    "    #    freq = float(heads['FREQ'])\n",
    "    #    fr.append(freq)\n",
    "    #elif 'CRVAL3' in heads:\n",
    "    #    freq = float(heads['CRVAL3'])\n",
    "    #    fr.append(freq)\n",
    "    #else:\n",
    "    freq = frList[i]*1e6\n",
    "    fr.append(freq)\n",
    "        \n",
    "    beamArea = 2*np.pi*float(heads['BMAJ'])*3600./2.35482*float(heads['BMIN'])*3600./2.35482\n",
    "    pixArea = -float(heads['CDELT2']*3600.)*float(heads['CDELT1']*3600.)\n",
    "    numPixBeam= beamArea/pixArea   \n",
    "    \n",
    "    for j in xrange (0,len(regions)):\n",
    "        \n",
    "        if j==0:\n",
    "            background, rms, pixels = fint.noiseReg(datas,heads,regions[j])\n",
    "             \n",
    "        else:\n",
    "            backround, rmsEL, pixels = fint.noiseReg(datas,heads,regions[j])\n",
    "        \n",
    "        noiseArray[j,i] = rms*pixels/numPixBeam\n",
    "        \n",
    "    rmsArray[:,i] = rms\n",
    "\n",
    "for i in xrange(15,len(tableFileNames)):\n",
    "    \n",
    "        fileName = imDir+tableFileNames.columns[0][i]\n",
    "    \n",
    "        datas,heads = fint.openFile(fileName)\n",
    "        datas=np.squeeze(datas)\n",
    "        heads=fint.cleanHead(heads)\n",
    "        #if not 'CDELT2' in heads:\n",
    "        #    heads['CDELT2'] = heads['CD2_2']\n",
    "        #    heads['CDELT1'] = heads['CD1_1']\n",
    "        #if 'Frequency' in tableFileNames.dtype.names:\n",
    "        #    freq = float(tableFileNames.columns[1][i])*1e6\n",
    "        #    fr.append(freq)\n",
    "        #elif 'FREQ' in heads:\n",
    "        #    freq = float(heads['FREQ'])\n",
    "        #    fr.append(freq)\n",
    "        #elif 'CRVAL3' in heads:\n",
    "        #    freq = float(heads['CRVAL3'])\n",
    "        #    fr.append(freq)\n",
    "        #else:\n",
    "        freq = frList[i]*1e6\n",
    "        fr.append(freq)\n",
    "        print freq\n",
    "        beamArea = 2*np.pi*float(heads['BMAJ'])*3600./2.35482*float(heads['BMIN'])*3600./2.35482\n",
    "        pixArea = -float(heads['CDELT2']*3600.)*float(heads['CDELT1']*3600.)\n",
    "        numPixBeam= beamArea/pixArea   \n",
    "        print pixArea\n",
    "        for j in xrange (0,len(regions)):\n",
    "            \n",
    "            if j==0:\n",
    "                background, rms, pixels = fint.noiseMultiReg(datas,heads,regDir+'noiseReg/')\n",
    "                background1, rms1, pixels1 = fint.noiseReg(datas,heads,regions[j])\n",
    "                print rms1, rms\n",
    "                rms_or = rms\n",
    "                noiseArray[0,i] = rms*pixels1/numPixBeam\n",
    "                print noiseArray[0,i]\n",
    "    \n",
    "            else:\n",
    "                 backround, rmsEL, pixels = fint.noiseReg(datas,heads,regions[j])\n",
    "                 noiseArray[j,i] = rms*pixels/numPixBeam\n",
    "                \n",
    "        rmsArray[:,i] = rms\n",
    "\n",
    "\n",
    "print '''\\t+---------+\\n\\t Noise measured\\n\\t+---------+'''\n",
    "  "
   ]
  },
  {
   "cell_type": "markdown",
   "metadata": {},
   "source": [
    "**Output tables**:\n",
    "\n",
    "```\n",
    "~/Projects/MFS/FornaxA/contData/noiseFluxes.tbl'\n",
    "\n",
    "```\n"
   ]
  },
  {
   "cell_type": "code",
   "execution_count": 21,
   "metadata": {
    "scrolled": false
   },
   "outputs": [
    {
     "name": "stdout",
     "output_type": "stream",
     "text": [
      "+--------------------------------------------------------------------------+--------------------------------------------------------------------------+-----------------------------------------------------------------------+----------------------------------------------------------------------------+----------------------------------------------------------------------------+----------------------------------------------------------------------------+----------------------------------------------------------------------------+----------------------------------------------------------------------------+----------------------------------------------------------------------------+\n",
      "|                                #Filenames                                |                                  FlCorr                                  |                                ErrPerc                                |                               rmsT [Jy/pix]                                |                               rmsEL [Jy/pix]                               |                               rmsWL [Jy/pix]                               |                               noiseToT [Jy]                                |                                noiseEL [Jy]                                |                                noiseWL [Jy]                                |\n",
      "+--------------------------------------------------------------------------+--------------------------------------------------------------------------+-----------------------------------------------------------------------+----------------------------------------------------------------------------+----------------------------------------------------------------------------+----------------------------------------------------------------------------+----------------------------------------------------------------------------+----------------------------------------------------------------------------+----------------------------------------------------------------------------+\n",
      "|                 ['CONVL/CONVL_MWA_84MHz_bt32_corr.fits'                  | ['1.0' '1.0' '1.0' '1.0' '1.0' '1.0' '1.0' '1.0' '1.0' '1.0' '1.0' '1.0' | ['20.0' '20.0' '20.0' '5.0' '5.0' '5.0' '5.0' '5.0' '5.0' '5.0' '5.0' | ['0.0002882089958221568' '0.00020081065245477318' '0.00019919635081876993' | ['0.0002882089958221568' '0.00020081065245477318' '0.00019919635081876993' | ['0.0002882089958221568' '0.00020081065245477318' '0.00019919635081876993' |     ['0.0119415516995529' '0.00832031901457141' '0.008253432599766714'     |   ['0.006066312328240134' '0.0042267248916131326' '0.004192746570124419'   |  ['0.0053770693221273985' '0.003746492352852289' '0.0037163745843945364'   |\n",
      "|                  'CONVL/CONVL_MWA_105MHz_bt32_corr.fits'                 |                      '1.0' '1.0' '1.0' '1.0' '1.0']                      |                 '5.0' '5.0' '5.0' '15.0' '15.0' '15.0']               |   '0.0003568513415375015' '0.0002569475898911988' '0.0007083206177387651'  |   '0.0003568513415375015' '0.0002569475898911988' '0.0007083206177387651'  |   '0.0003568513415375015' '0.0002569475898911988' '0.0007083206177387651'  |     '0.014785654874750722' '0.010646277434916135' '0.02934831111866511'    |     '0.007511117709364552' '0.005408312560897305' '0.0149089520383562'     |    '0.0066577186311191205' '0.00479383025174928' '0.013215024926646092'    |\n",
      "|                  'CONVL/CONVL_MWA_200MHz_bt32_corr.fits'                 |                                                                          |                                                                       |   '4.190882418647491e-06' '9.39842938114984e-06' '1.0061411440840518e-05'  |   '4.190882418647491e-06' '9.39842938114984e-06' '1.0061411440840518e-05'  |   '4.190882418647491e-06' '9.39842938114984e-06' '1.0061411440840518e-05'  |  '0.00017364357044534322' '0.0003894112674361209' '0.00041688103644554365' |  '8.821099289396862e-05' '0.00019782105641194035' '0.00021177570841935148' |  '7.81886256591998e-05' '0.00017534499975408645' '0.00018771415042585578'  |\n",
      "|                  'CONVL/CONVL_VLA_320MHz_bt32_corr.fits'                 |                                                                          |                                                                       |  '1.0519882659409832e-05' '1.2273063325685478e-05' '1.361789067337097e-05' |  '1.0519882659409832e-05' '1.2273063325685478e-05' '1.361789067337097e-05' |  '1.0519882659409832e-05' '1.2273063325685478e-05' '1.361789067337097e-05' |   '0.0004358771741048997' '0.0005085178545432919' '0.000564238965029616'   |  '0.00022142575281653088' '0.0002583272432058971' '0.0002866335863002434'  |  '0.00019626777491427605' '0.00022897658731579697' '0.0002540668169048128' |\n",
      "|                'CONVL/CONVL_Meer_1030MHz_pbcorr_bt32.fits'               |                                                                          |                                                                       |  '1.4467392124556155e-05' '1.3845311483172609e-05' '0.0010483647626919608' |  '1.4467392124556155e-05' '1.3845311483172609e-05' '0.0010483647626919608' |  '1.4467392124556155e-05' '1.3845311483172609e-05' '0.0010483647626919608' |   '0.0005994369138973635' '0.0005736618400861471' '0.043488968229885905'   |  '0.00030451415630633195' '0.00029142041003647865' '0.022231226792710064'  |   '0.0002699158301503577' '0.0002583097707241736' '0.019608776447189308'   |\n",
      "|                'CONVL/CONVL_Meer_1440MHz_pbcorr_bt32.fits'               |                                                                          |                                                                       |                '0.03613582440818606' '0.03169411490857978']                |                '0.03613582440818606' '0.03169411490857978']                |                '0.03613582440818606' '0.03169411490857978']                |                 '1.4941555115962555' '1.3104983005477446']                 |                  '0.7638008302769346' '0.669916673509788']                 |                 '0.6737010004319343' '0.5908916503611804']                 |\n",
      "|  'CONVL/CONVL_VLA_1500MHz.fits' 'CONVL/CONVL_SRT_5700MHz_bt32_corr.fits' |                                                                          |                                                                       |                                                                            |                                                                            |                                                                            |                                                                            |                                                                            |                                                                            |\n",
      "|                 'CONVL/CONVL_SRT_5900MHz_bt32_corr.fits'                 |                                                                          |                                                                       |                                                                            |                                                                            |                                                                            |                                                                            |                                                                            |                                                                            |\n",
      "|                 'CONVL/CONVL_SRT_6100MHz_bt32_corr.fits'                 |                                                                          |                                                                       |                                                                            |                                                                            |                                                                            |                                                                            |                                                                            |                                                                            |\n",
      "|                 'CONVL/CONVL_SRT_6300MHz_bt32_corr.fits'                 |                                                                          |                                                                       |                                                                            |                                                                            |                                                                            |                                                                            |                                                                            |                                                                            |\n",
      "|                 'CONVL/CONVL_SRT_6500MHz_bt32_corr.fits'                 |                                                                          |                                                                       |                                                                            |                                                                            |                                                                            |                                                                            |                                                                            |                                                                            |\n",
      "|                 'CONVL/CONVL_SRT_6700MHz_bt32_corr.fits'                 |                                                                          |                                                                       |                                                                            |                                                                            |                                                                            |                                                                            |                                                                            |                                                                            |\n",
      "|                 'CONVL/CONVL_SRT_6874MHz_bt32_corr.fits'                 |                                                                          |                                                                       |                                                                            |                                                                            |                                                                            |                                                                            |                                                                            |                                                                            |\n",
      "|                 'CONVL/CONVL_large_HFI_100_Fg_bt32.fits'                 |                                                                          |                                                                       |                                                                            |                                                                            |                                                                            |                                                                            |                                                                            |                                                                            |\n",
      "|                 'CONVL/CONVL_large_HFI_143_Fg_bt32.fits'                 |                                                                          |                                                                       |                                                                            |                                                                            |                                                                            |                                                                            |                                                                            |                                                                            |\n",
      "|                 'CONVL/CONVL_large_HFI_217_Fg_bt32.fits']                |                                                                          |                                                                       |                                                                            |                                                                            |                                                                            |                                                                            |                                                                            |                                                                            |\n",
      "+--------------------------------------------------------------------------+--------------------------------------------------------------------------+-----------------------------------------------------------------------+----------------------------------------------------------------------------+----------------------------------------------------------------------------+----------------------------------------------------------------------------+----------------------------------------------------------------------------+----------------------------------------------------------------------------+----------------------------------------------------------------------------+\n",
      "\t+---------+\n",
      "\t Tables Saved\n",
      "\t+---------+\n"
     ]
    }
   ],
   "source": [
    "colNames = ['#Filenames','FlCorr','ErrPerc','rmsT [Jy/pix]', 'rmsEL [Jy/pix]', 'rmsWL [Jy/pix]',\n",
    "            'noiseToT [Jy]', 'noiseEL [Jy]', 'noiseWL [Jy]']\n",
    "\n",
    "flCorr = np.array(tableFileNames.columns[1],dtype=float)\n",
    "errPerc=  np.array(tableFileNames.columns[2],dtype=float)\n",
    "\n",
    "alldata = np.array([tableFileNames.columns[0],flCorr,errPerc,rmsArray[0,:].T,rmsArray[1,:].T,rmsArray[2,:].T,\n",
    "                    noiseArray[0,:].T,noiseArray[1,:].T,noiseArray[2,:].T])\n",
    "\n",
    "tt = Table(alldata.T,names=colNames,meta={'name': 'Noise table'})\n",
    "\n",
    "ascii.write(tt,outTable, overwrite=True)\n",
    "\n",
    "t = PrettyTable(colNames)\n",
    "t.add_row(alldata)\n",
    "\n",
    "\n",
    "print t\n",
    "print '''\\t+---------+\\n\\t Tables Saved\\n\\t+---------+'''\n"
   ]
  },
  {
   "cell_type": "code",
   "execution_count": null,
   "metadata": {},
   "outputs": [],
   "source": []
  },
  {
   "cell_type": "code",
   "execution_count": null,
   "metadata": {},
   "outputs": [],
   "source": []
  }
 ],
 "metadata": {
  "kernelspec": {
   "display_name": "Python 2",
   "language": "python",
   "name": "python2"
  },
  "language_info": {
   "codemirror_mode": {
    "name": "ipython",
    "version": 2
   },
   "file_extension": ".py",
   "mimetype": "text/x-python",
   "name": "python",
   "nbconvert_exporter": "python",
   "pygments_lexer": "ipython2",
   "version": "2.7.15"
  }
 },
 "nbformat": 4,
 "nbformat_minor": 2
}
