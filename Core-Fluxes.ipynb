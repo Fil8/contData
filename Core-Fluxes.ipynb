{
 "cells": [
  {
   "cell_type": "markdown",
   "metadata": {
    "deletable": true,
    "editable": true
   },
   "source": [
    "## Core\n",
    "\n",
    "- Measure fluxes from a region at multiple frequencies\n",
    "\n"
   ]
  },
  {
   "cell_type": "code",
   "execution_count": 2,
   "metadata": {
    "collapsed": false,
    "deletable": true,
    "editable": true
   },
   "outputs": [
    {
     "name": "stdout",
     "output_type": "stream",
     "text": [
      "\n",
      "    ERROR: Montage commands could not be found.\n",
      "\n",
      "    In order to use the montage_wrapper module, you will first need to\n",
      "    install the IPAC Montage software from:\n",
      "\n",
      "        http://montage.ipac.caltech.edu\n",
      "\n",
      "    and ensure that the Montage commands (e.g. mAdd, mProject, etc.) are in\n",
      "    your $PATH. Your current $PATH variable contains the following paths,\n",
      "    but none of them contain the Montage commands:\n",
      "\n",
      "        PATH = /Users/maccagni/programs/anaconda2/bin:/usr/local/karma/cm_sc\n",
      "           ript:/usr/local/karma/csh_script:/usr/local/karma/site/x86_64\n",
      "           _Darwin/bin:/usr/local/karma/bin:/Users/maccagni/programs/rad\n",
      "           iobs:/usr/local/Cellar/gcc/8.2.0/bin:/usr/local/opt/inetutils\n",
      "           /libexec/gnubin:/Users/maccagni/programs/patchelf-0.9/bin:/Us\n",
      "           ers/maccagni/programs/anaconda2/envs:/Users/maccagni/programs\n",
      "           /anaconda2/bin:/Users/maccagni/programs/:/usr/local/bin:/usr/\n",
      "           local/bin:/usr/bin:/bin:/usr/sbin:/sbin:/Library/TeX/texbin:/\n",
      "           opt/X11/bin:/Users/maccagni/programs/SoFiA-1.2.0:/Users/macca\n",
      "           gni/programs/miriad/darwin_x86_64/bin\n",
      "\n",
      "    If the Montage commands are in one of these directories, then please\n",
      "    report this as an issue with montage-wrapper.\n",
      "    \n"
     ]
    },
    {
     "ename": "SystemExit",
     "evalue": "1",
     "output_type": "error",
     "traceback": [
      "An exception has occurred, use %tb to see the full traceback.\n",
      "\u001b[0;31mSystemExit\u001b[0m\u001b[0;31m:\u001b[0m 1\n"
     ]
    },
    {
     "name": "stderr",
     "output_type": "stream",
     "text": [
      "/Users/maccagni/programs/anaconda2/lib/python2.7/site-packages/IPython/core/interactiveshell.py:2889: UserWarning: To exit: use 'exit', 'quit', or Ctrl-D.\n",
      "  warn(\"To exit: use 'exit', 'quit', or Ctrl-D.\", stacklevel=1)\n"
     ]
    }
   ],
   "source": [
    "import numpy as np\n",
    "from astropy.io import ascii, fits\n",
    "import fluxInt\n",
    "import pbCorr\n",
    "import synCl\n",
    "from prettytable import PrettyTable\n",
    "\n",
    "\n",
    "fint = fluxInt.flInt()\n",
    "\n",
    "pb = pbCorr.pbcorr()\n",
    "syn = synCl.synClean()\n",
    "\n",
    "rootDir = '/home/maccagni/Projects/MFS/FornaxA/contData/Core/'\n",
    "imDir = rootDir+'inIms/'\n",
    "\n",
    "fint.rootdir = rootDir\n",
    "syn.rootdir = rootDir\n",
    "pb.rootdir = rootDir\n",
    "\n",
    "\n",
    "tableName = rootDir+'coreFileNames.tbl'\n",
    "tableFileNames= ascii.read(tableName,format='csv')\n",
    "\n",
    "print tableFileNames.columns[0]\n",
    "\n",
    "print '''\\t+---------+\\n\\t Inputs loaded\\n\\t+---------+'''\n"
   ]
  },
  {
   "cell_type": "markdown",
   "metadata": {
    "deletable": true,
    "editable": true
   },
   "source": [
    "We measure the flux in 6 frequency interval centred at: \n",
    "\n",
    "- 1.030 GHz (MeerKAT)\n",
    "- 1.440 GHz (MeerKAT)\n",
    "- 1.500 GHz (VLA)\n",
    "- 4.800 GHz (VLA)\n",
    "- 14.00 GHz (VLA)\n",
    "- 108.0 GHz (ALMA)\n",
    "\n",
    "\n",
    "We measure the flux in each map at its original spatial resolution. Since the images have very different fields of view, we draw a broad region in the centre that includes the core in all images. We measure as flux all signal above 3$\\cdot$ r.m.s of the image.\n",
    "\n",
    "The noise of the MeerKAT images (and VLA at 1500 MHz) is given in the input table, since it needs to be measured outside the extended radio lobes, that otherwise would be included in the measurement.\n"
   ]
  },
  {
   "cell_type": "code",
   "execution_count": 3,
   "metadata": {
    "collapsed": false,
    "deletable": true,
    "editable": true
   },
   "outputs": [
    {
     "ename": "NameError",
     "evalue": "name 'tableFileNames' is not defined",
     "output_type": "error",
     "traceback": [
      "\u001b[0;31m---------------------------------------------------------------------------\u001b[0m",
      "\u001b[0;31mNameError\u001b[0m                                 Traceback (most recent call last)",
      "\u001b[0;32m<ipython-input-3-ba9e7cfd14de>\u001b[0m in \u001b[0;36m<module>\u001b[0;34m()\u001b[0m\n\u001b[1;32m      3\u001b[0m \u001b[0;31m#-------------------------------------------------#\u001b[0m\u001b[0;34m\u001b[0m\u001b[0;34m\u001b[0m\u001b[0m\n\u001b[1;32m      4\u001b[0m \u001b[0;34m\u001b[0m\u001b[0m\n\u001b[0;32m----> 5\u001b[0;31m \u001b[0mfileNames\u001b[0m\u001b[0;34m=\u001b[0m\u001b[0mnp\u001b[0m\u001b[0;34m.\u001b[0m\u001b[0mempty\u001b[0m\u001b[0;34m(\u001b[0m\u001b[0;34m[\u001b[0m\u001b[0mlen\u001b[0m\u001b[0;34m(\u001b[0m\u001b[0mtableFileNames\u001b[0m\u001b[0;34m.\u001b[0m\u001b[0mcolumns\u001b[0m\u001b[0;34m[\u001b[0m\u001b[0;36m0\u001b[0m\u001b[0;34m]\u001b[0m\u001b[0;34m)\u001b[0m\u001b[0;34m]\u001b[0m\u001b[0;34m,\u001b[0m\u001b[0mdtype\u001b[0m\u001b[0;34m=\u001b[0m\u001b[0;34m'object'\u001b[0m\u001b[0;34m)\u001b[0m\u001b[0;34m\u001b[0m\u001b[0m\n\u001b[0m\u001b[1;32m      6\u001b[0m \u001b[0;32mfor\u001b[0m \u001b[0mi\u001b[0m \u001b[0;32min\u001b[0m \u001b[0mxrange\u001b[0m\u001b[0;34m(\u001b[0m\u001b[0;36m0\u001b[0m\u001b[0;34m,\u001b[0m\u001b[0mlen\u001b[0m\u001b[0;34m(\u001b[0m\u001b[0mtableFileNames\u001b[0m\u001b[0;34m.\u001b[0m\u001b[0mcolumns\u001b[0m\u001b[0;34m[\u001b[0m\u001b[0;36m0\u001b[0m\u001b[0;34m]\u001b[0m\u001b[0;34m)\u001b[0m\u001b[0;34m)\u001b[0m\u001b[0;34m:\u001b[0m\u001b[0;34m\u001b[0m\u001b[0m\n\u001b[1;32m      7\u001b[0m \u001b[0;34m\u001b[0m\u001b[0m\n",
      "\u001b[0;31mNameError\u001b[0m: name 'tableFileNames' is not defined"
     ]
    }
   ],
   "source": [
    "#-------------------------------------------------#\n",
    "# Primary beam correction\n",
    "#-------------------------------------------------#\n",
    "\n",
    "fileNames=np.empty([len(tableFileNames.columns[0])],dtype='object')\n",
    "for i in xrange(0,len(tableFileNames.columns[0])):\n",
    "\n",
    "    fileName = rootDir+tableFileNames.columns[0][i]\n",
    "    if fileName == '/home/maccagni/Projects/MFS/FornaxA/contData/core/inIms/Alma_115GHz.fits':\n",
    "        fileNames[i] = fileName\n",
    "        continue\n",
    "    ff=fits.open(fileName)\n",
    "    dats=ff[0].data\n",
    "    heads=ff[0].header\n",
    "    dats=np.squeeze(dats)\n",
    "    \n",
    "    if i <2:\n",
    "        telescope= 'MeerKAT'\n",
    "    elif i >2 and i< 5:\n",
    "        telescope= 'VLA'\n",
    "        \n",
    "    fileNamePbCorr = pb.BeamCorrect(fileName,dats,heads,telescope)\n",
    "    fileNames[i] = fileNamePbCorr\n",
    "    \n",
    "print fileNames\n",
    "    \n",
    "print '''\\t+---------+\\n\\t Primary beam correction done\\n\\t+---------+'''\n",
    " "
   ]
  },
  {
   "cell_type": "code",
   "execution_count": 3,
   "metadata": {
    "collapsed": false,
    "deletable": true,
    "editable": true,
    "scrolled": false
   },
   "outputs": [
    {
     "name": "stdout",
     "output_type": "stream",
     "text": [
      "\t Executing FileList+Region Combo\n"
     ]
    },
    {
     "name": "stderr",
     "output_type": "stream",
     "text": [
      "WARNING: FITSFixedWarning: The WCS transformation has more axes (4) than the image it is associated with (2) [astropy.wcs.wcs]\n",
      "/home/maccagni/programs/radiobs/fluxInt.py:135: RuntimeWarning: invalid value encountered in less\n",
      "  index_cut = datas < self.cutoff\n"
     ]
    },
    {
     "name": "stdout",
     "output_type": "stream",
     "text": [
      "\t+---------+\n",
      "\t Fluxes measured\n",
      "\t+---------+\n"
     ]
    }
   ],
   "source": [
    "region = imDir+'cReg.reg'\n",
    "cutoff = tableFileNames.columns[2]\n",
    "errFlux = 5.\n",
    "print '\\t Executing FileList+Region Combo' \n",
    "\n",
    "fr=[]\n",
    "flIntArray=[]\n",
    "flErrArray=[]\n",
    "\n",
    "for i in xrange(0,len(tableFileNames.columns[0])):\n",
    "\n",
    "    fileName = rootDir+tableFileNames.columns[0][i]\n",
    "#for i in xrange(0,len(fileNames)):\n",
    "    datas,heads = fint.openFile(fileName)\n",
    "    datas=np.squeeze(datas)\n",
    "    heads=fint.cleanHead(heads)\n",
    "    maskedData, background, rms, pixels=fint.maskDatReg(datas,heads,region,cutoff[i])\n",
    "\n",
    "    noiseInt = rms *np.sqrt(pixels)\n",
    "    \n",
    "    if 'Frequency' in tableFileNames.dtype.names:\n",
    "        freq = float(tableFileNames.columns[1][i])*1e6\n",
    "        fr.append(freq)\n",
    "                \n",
    "    fluxint, numPixBeam =fint.measFlux(maskedData,heads,errFlux)\n",
    "    flIntArray.append(fluxint)\n",
    "    \n",
    "    t,flErr = fint.writeTable(heads,fluxint,noiseInt,numPixBeam,freq,errFlux)\n",
    "    flErrArray.append(flErr)\n",
    "\n",
    "    \n",
    "syn.writeSynageTable(fr,flIntArray,flErrArray,'Core')\n",
    "\n",
    "print '''\\t+---------+\\n\\t Fluxes measured\\n\\t+---------+'''\n",
    "  "
   ]
  },
  {
   "cell_type": "markdown",
   "metadata": {
    "deletable": true,
    "editable": true
   },
   "source": [
    "**Output tables**:\n",
    "\n",
    "```\n",
    "~/Projects/MFS/FornaxA/contData/core/integratedFluxes.tbl'\n",
    "~/Projects/MFS/FornaxA/contData/core/synageFlCore.tbl'\n",
    "```\n",
    "\n",
    "**...Run synage to analyse the spectral energy distribution...**\n",
    "\n",
    "```\n",
    "~/programs/synage/SYNAGE\n",
    "exec synageCore.script\n",
    "```\n",
    "\n",
    "**Output SYNAGE tables**:\n",
    "\n",
    "```\n",
    "CiCore_point1_fit.dat\n",
    "CiOFFCore_point1_fit.dat\n",
    "```\n"
   ]
  },
  {
   "cell_type": "code",
   "execution_count": 6,
   "metadata": {
    "collapsed": false,
    "deletable": true,
    "editable": true
   },
   "outputs": [
    {
     "name": "stdout",
     "output_type": "stream",
     "text": [
      "+--------------+-------------+\n",
      "|      CI      |    value    |\n",
      "+--------------+-------------+\n",
      "| alpha_errsup |  0.04749648 |\n",
      "|    break     |   249973.6  |\n",
      "|    chisq     |  0.9405434  |\n",
      "|    chired    |  0.3135145  |\n",
      "|  break_inf   |  -218713.5  |\n",
      "|    alpha     |  0.9304751  |\n",
      "|     ndf      |     3.0     |\n",
      "| alpha_errinf | -0.05386017 |\n",
      "|     norm     |  0.00259165 |\n",
      "|  break_sup   |   26.37568  |\n",
      "+--------------+-------------+\n",
      "+--------------+--------------+\n",
      "|    CIOFF     |    value     |\n",
      "+--------------+--------------+\n",
      "|   t_errinf   |     -0.0     |\n",
      "|    tratio    |    0.001     |\n",
      "|   t_errsup   | 0.0004764591 |\n",
      "|    break     |   250000.0   |\n",
      "|    chisq     |  0.9406456   |\n",
      "|    alpha     |  0.9302628   |\n",
      "| alpha_errinf | -0.05277748  |\n",
      "| alpha_errsup |  0.02631769  |\n",
      "|    chired    |  0.4703228   |\n",
      "|     ndf      |     2.0      |\n",
      "|  break_inf   |  -229562.9   |\n",
      "|  break_sup   |     0.0      |\n",
      "|     norm     | 0.002593583  |\n",
      "+--------------+--------------+\n",
      "\t+---------+\n",
      "\t Synage results read\n",
      "\t+---------+\n"
     ]
    }
   ],
   "source": [
    "statsCI = syn.readCIStats(rootDir+'synOut/CoreCI.stats')\n",
    "statsCIOFF =  syn.readCIOFFStats(rootDir+'synOut/CoreCIOFF.stats')\n",
    "\n",
    "tot= ascii.read(rootDir+'CoreFluxes.tbl', fast_reader=False)\n",
    "\n",
    "modCI = syn.readCIMod(rootDir+'synOut/CoreCI_point1_fit.dat')\n",
    "modCIOFF = syn.readCIMod(rootDir+'synOut/CoreCIOFF_point1_fit.dat')\n",
    "\n",
    "CI = PrettyTable(['CI', 'value'])\n",
    "for key, val in statsCI.items():\n",
    "    CI.add_row([key, val])\n",
    "print CI\n",
    "\n",
    "\n",
    "CIOFF = PrettyTable(['CIOFF', 'value'])\n",
    "for key, val in statsCIOFF.items():\n",
    "    CIOFF.add_row([key, val])\n",
    "print CIOFF\n",
    "\n",
    "print '''\\t+---------+\\n\\t Synage results read\\n\\t+---------+'''\n"
   ]
  },
  {
   "cell_type": "code",
   "execution_count": 7,
   "metadata": {
    "collapsed": false,
    "deletable": true,
    "editable": true
   },
   "outputs": [
    {
     "name": "stdout",
     "output_type": "stream",
     "text": [
      "\n",
      "\t-----> Loaded <-----\n"
     ]
    }
   ],
   "source": [
    "#-------------------------------------------------#\n",
    "# Plot SED\n",
    "#-------------------------------------------------#\n",
    "from matplotlib import pyplot as plt\n",
    "from matplotlib import rc\n",
    "from matplotlib import gridspec\n",
    "from matplotlib.ticker import AutoMinorLocator, MultipleLocator, LogLocator\n",
    "from matplotlib import transforms as mtransforms\n",
    "\n",
    "def plot_CI_over_CIOFF(tot,mod_CI,mod_CIOFF,statsCI,statsCIOFF,labe,color_plot,sed):\n",
    "\n",
    "    params = {'font.family'         :' serif',\n",
    "              'font.style'          : 'normal',\n",
    "              'font.weight'         : 'book',\n",
    "              'font.size'           : 30.0,\n",
    "              'axes.linewidth'      : 3,\n",
    "              'lines.linewidth'     : 3,\n",
    "              'xtick.labelsize'     : 26,\n",
    "              'ytick.labelsize'     : 26, \n",
    "              'xtick.direction'     :'in',\n",
    "              'ytick.direction'     :'in',\n",
    "              'xtick.top'           : True,   # draw ticks on the top side\n",
    "              'xtick.bottom'        : True,   # draw ticks on the bottom side    \n",
    "              'ytick.left'          : True,   # draw ticks on the top side\n",
    "              'ytick.right'         : True,   # draw ticks on the bottom side  \n",
    "              'xtick.major.size'    : 8,\n",
    "              'xtick.major.width'   : 3,\n",
    "              'xtick.minor.size'    : 4,\n",
    "              'xtick.minor.width'   : 2,\n",
    "              'ytick.major.size'    : 8,\n",
    "              'ytick.major.width'   : 3,\n",
    "              'ytick.minor.size'    : 4,\n",
    "              'ytick.minor.width'   : 2, \n",
    "              'text.usetex'         : True,\n",
    "              'text.latex.unicode'  : True\n",
    "               }\n",
    "    plt.rcParams.update(params)\n",
    "\n",
    "    # initialize figure\n",
    "    fig = plt.figure(figsize =(12,12))\n",
    "    fig.subplots_adjust(hspace=0.0)\n",
    "    gs = gridspec.GridSpec(1, 1)\n",
    "    plt.rc('xtick')\n",
    "\n",
    "\n",
    "    # Initialize subplots\n",
    "    ax1 = fig.add_subplot(gs[0])\n",
    "    ax1.set_xlabel(r'Frequency [MHz]')\n",
    "    ax1.set_ylabel(r'Flux density [Jy]')\n",
    "    #ax1.set_xscale(\"symlog\", nonposx='clip', linthreshy=0.1)\n",
    "    #ax1.set_yscale(\"symlog\", nonposy='clip', linthreshy=0.1)\n",
    "    ax1.set_xscale(\"log\", nonposx='clip')\n",
    "    ax1.set_yscale(\"log\", nonposy='clip')\n",
    "    ax1.set_ylim([1e-3,2e2])\n",
    "    ax1.set_xlim([10,5e5])\n",
    "    ax1.tick_params(axis='both', which='major', pad=5)\n",
    "\n",
    "    #POINTS\n",
    "    print color_plot[0]\n",
    "\n",
    "\n",
    "    \n",
    "    # MODELS\n",
    "    \n",
    "    idx_max = (np.abs(mod_CI[0] - 5e5)).argmin()\n",
    "    idx_min = (np.abs(mod_CI[0] - 30)).argmin()\n",
    "\n",
    "    ax1.plot(mod_CI[0][idx_min:idx_max],mod_CI[1][idx_min:idx_max],lw=3, marker=' ', \n",
    "             color=color_plot[0], linestyle=':',label='CI',alpha=0.5)\n",
    "\n",
    "    idx_br = (np.abs(mod_CI[0] - float(statsCI['break']))).argmin()\n",
    "    ax1.axvline(statsCI['break'],ymin=0,ymax=0.58,ls=':',c=color_plot[0],lw=2,alpha=0.5)\n",
    "\n",
    "    ax1.plot(mod_CIOFF[0][idx_min:idx_max],mod_CIOFF[1][idx_min:idx_max],lw=3, marker=' ', \n",
    "             color=color_plot[1], linestyle='--',label='CIOFF',alpha=0.5)\n",
    "\n",
    "    idx_br = (np.abs(mod_CIOFF[0] - float(statsCIOFF['break']))).argmin()\n",
    "    ax1.axvline(statsCIOFF['break'],ymin=0,ymax=0.55,ls='--',c=color_plot[1],lw=2,alpha=0.5)\n",
    "    \n",
    "    totplot = ax1.errorbar(tot['Frequency [MHz]'],tot['Integrated Flux [Jy]'], yerr=tot['Error [Jy]'],\n",
    "             marker='o', color=color_plot[0], linestyle=' ',label=labe,capsize=6) \n",
    "\n",
    "    totplot[-1][0].set_linestyle('--')\n",
    "    totplot[-1][0].set_linewidth(3)    \n",
    "    #ax1.axvline(br_f_no217,ymin=0,ymax=0.73,ls='-.',c='cyan',lw=1) \n",
    "\n",
    "    legend = plt.legend(loc=1, prop={'size': 20})\n",
    "    legend.get_frame().set_edgecolor('black')\n",
    "\n",
    "    # Save figure to file\n",
    "    #plt.savefig(sed,overwrite = True)\n",
    "\n",
    "\n",
    "print '\\n\\t-----> Loaded <-----'"
   ]
  },
  {
   "cell_type": "code",
   "execution_count": 8,
   "metadata": {
    "collapsed": false,
    "deletable": true,
    "editable": true,
    "scrolled": false
   },
   "outputs": [
    {
     "name": "stdout",
     "output_type": "stream",
     "text": [
      "green\n"
     ]
    },
    {
     "data": {
      "image/png": "[encoded data removed]",
      "text/plain": [
       "<Figure size 864x864 with 1 Axes>"
      ]
     },
     "metadata": {},
     "output_type": "display_data"
    }
   ],
   "source": [
    "outplot=rootDir+'prova_core.png'\n",
    "plot_CI_over_CIOFF(tot,modCI,modCIOFF,statsCI,statsCIOFF,'Core',['green','darkgreen','mediumseagreen'],outplot)"
   ]
  },
  {
   "cell_type": "code",
   "execution_count": null,
   "metadata": {
    "collapsed": true,
    "deletable": true,
    "editable": true
   },
   "outputs": [],
   "source": []
  }
 ],
 "metadata": {
  "anaconda-cloud": {},
  "kernelspec": {
   "display_name": "Python [default]",
   "language": "python",
   "name": "python2"
  },
  "language_info": {
   "codemirror_mode": {
    "name": "ipython",
    "version": 2
   },
   "file_extension": ".py",
   "mimetype": "text/x-python",
   "name": "python",
   "nbconvert_exporter": "python",
   "pygments_lexer": "ipython2",
   "version": "2.7.15"
  }
 },
 "nbformat": 4,
 "nbformat_minor": 2
}
