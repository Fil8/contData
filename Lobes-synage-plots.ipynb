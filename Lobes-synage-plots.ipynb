{
 "cells": [
  {
   "cell_type": "markdown",
   "metadata": {},
   "source": [
    "## SED stats & plots\n",
    "\n",
    "- Read SYNAGE++ results\n",
    "- Plot SED and models\n"
   ]
  },
  {
   "cell_type": "code",
   "execution_count": 69,
   "metadata": {},
   "outputs": [
    {
     "name": "stdout",
     "output_type": "stream",
     "text": [
      "\t+---------+\n",
      "\t Inputs loaded\n",
      "\t+---------+\n"
     ]
    }
   ],
   "source": [
    "import numpy as np\n",
    "import shutil\n",
    "from astropy.io import ascii, fits\n",
    "import aplpy\n",
    "from matplotlib import pyplot as plt\n",
    "from matplotlib import rc\n",
    "from matplotlib import gridspec\n",
    "from matplotlib.ticker import AutoMinorLocator, MultipleLocator, LogLocator\n",
    "from matplotlib import transforms as mtransforms\n",
    "\n",
    "FA_radeg = 50.673825\n",
    "FA_decdeg = -37.208227\n",
    "\n",
    "BeamRa = 51.299614\n",
    "BeamDec = -37.707858\n",
    "\n",
    "rootDir = '/home/maccagni/Projects/MFS/FornaxA/contData/'\n",
    "\n",
    "figDir = rootDir+'contFigs/'\n",
    "\n",
    "outSynPlot = figDir+'lobesSynF8.png'\n",
    "synMap = rootDir+'synMaps/JP_synage::JP_Shape.break_frequency.FITS_maskCut.fits'\n",
    "\n",
    "\n",
    "print '''\\t+---------+\\n\\t Inputs loaded\\n\\t+---------+'''\n"
   ]
  },
  {
   "cell_type": "code",
   "execution_count": 6,
   "metadata": {
    "scrolled": false
   },
   "outputs": [
    {
     "name": "stderr",
     "output_type": "stream",
     "text": [
      "WARNING: Cannot determine equinox. Assuming J2000. [aplpy.wcs_util]\n",
      "WARNING: Cannot determine equinox. Assuming J2000. [aplpy.wcs_util]\n"
     ]
    },
    {
     "name": "stdout",
     "output_type": "stream",
     "text": [
      "\n",
      "\t-----> Loaded <-----\n"
     ]
    },
    {
     "data": {
      "image/png": "[encoded data removed]",
      "text/plain": [
       "<Figure size 864x864 with 2 Axes>"
      ]
     },
     "metadata": {},
     "output_type": "display_data"
    }
   ],
   "source": [
    "#-------------------------------------------------#\n",
    "# Plot SED\n",
    "#-------------------------------------------------#\n",
    "\n",
    "\n",
    "params = {'font.family'         :' serif',\n",
    "          'font.style'          : 'normal',\n",
    "          'font.weight'         : 'book',\n",
    "          'font.size'           : 18.0,\n",
    "          'axes.linewidth'      : 2,\n",
    "          'lines.linewidth'     : 2,\n",
    "          'xtick.labelsize'     : 24,\n",
    "          'ytick.labelsize'     : 24, \n",
    "          'xtick.direction'     :'in',\n",
    "          'ytick.direction'     :'in',\n",
    "          'xtick.major.size'    : 9,\n",
    "          'xtick.major.width'   : 2,\n",
    "          'xtick.minor.size'    : 6,\n",
    "          'xtick.minor.width'   : 2,\n",
    "          'ytick.major.size'    : 9,\n",
    "          'ytick.major.width'   : 2,\n",
    "          'ytick.minor.size'    : 6,\n",
    "          'ytick.minor.width'   : 2, \n",
    "          'text.usetex'         : True,\n",
    "          'text.latex.unicode'  : True\n",
    "           }\n",
    "plt.rcParams.update(params)\n",
    "\n",
    "#plot image\n",
    "a=synMap\n",
    "\n",
    "fig = plt.figure(figsize=(12, 12))\n",
    "\n",
    "f4 = aplpy.FITSFigure(a, figure=fig, subplot=(1,1,1))\n",
    "f4.show_colorscale(aspect='equal', cmap='RdYlBu_r',stretch = 'log',\n",
    "                    exponent=1,vmin=9e4,vmax=1.e5)\n",
    "f4.frame.set_linewidth(3)\n",
    "f4.recenter(FA_radeg,FA_decdeg,width=1.3,height=1.3)\n",
    "\n",
    "#f4.set_title('Break frequency map')\n",
    "\n",
    "f4.tick_labels.set_font( weight='book', \\\n",
    "                         stretch='normal', family='serif', \\\n",
    "                         style='normal', variant='normal',size=21) \n",
    "f4.axis_labels.set_font( weight='medium', \\\n",
    "                        stretch='semi-expanded', family='serif', \\\n",
    "                         style='normal', variant='normal',size=24)\n",
    "\n",
    "f4.tick_labels.set_xformat('hh:mm')\n",
    "\n",
    "f4.tick_labels.set_yformat('dd:mm')\n",
    "\n",
    "f4.axis_labels.set_xtext('Ra (J2000)')\n",
    "f4.axis_labels.set_ytext('Dec (J2000)')\n",
    "\n",
    "f4.ticks.set_color('k')\n",
    "f4.ticks.set_length(9)  # points\n",
    "f4.ticks.set_linewidth(3)  # points\n",
    "f4.ticks.set_minor_frequency(3)\n",
    "f4.ticks.show()\n",
    "\n",
    "\n",
    "f4.add_colorbar(log_format=True)\n",
    "#f4.colorbar.set_box([0.91, 0.08, 0.015, 0.85], box_orientation='vertical')\n",
    "f4.colorbar.set_ticks([90000,1e5])\n",
    "f4.colorbar.set_frame_linewidth(1)\n",
    "f4.colorbar.set_pad(0.2)\n",
    "f4.colorbar.set_font( weight='medium', \\\n",
    "                      stretch='semi-expanded', family='serif', \\\n",
    "                      style='normal', variant='normal',size=24)\n",
    "\n",
    "f4.colorbar.set_axis_label_text(r'MHz')\n",
    "\n",
    "f4.show_ellipses(BeamRa, BeamDec, 580./3600., 580./3600., angle=0, edgecolor='black',linewidth=2)\n",
    "\n",
    "fig.tight_layout()\n",
    "\n",
    "fig.savefig(outSynPlot,format='png',overwrite=True)\n",
    "\n",
    "\n",
    "print '\\n\\t-----> Loaded <-----'"
   ]
  },
  {
   "cell_type": "code",
   "execution_count": 70,
   "metadata": {},
   "outputs": [],
   "source": [
    "def plot_nubreakInt(Elobe,Wlobe,outfile):\n",
    "\n",
    "    params = {'font.family'         :' serif',\n",
    "              'font.style'          : 'normal',\n",
    "              'font.weight'         : 'book',\n",
    "              'font.size'           : 30.0,\n",
    "              'axes.linewidth'      : 3,\n",
    "              'lines.linewidth'     : 3,\n",
    "              'xtick.labelsize'     : 26,\n",
    "              'ytick.labelsize'     : 26, \n",
    "              'xtick.direction'     :'in',\n",
    "              'ytick.direction'     :'in',\n",
    "              'xtick.top'           : True,   # draw ticks on the top side\n",
    "              'xtick.bottom'        : True,   # draw ticks on the bottom side    \n",
    "              'ytick.left'          : True,   # draw ticks on the top side\n",
    "              'ytick.right'         : True,   # draw ticks on the bottom side  \n",
    "              'xtick.major.size'    : 8,\n",
    "              'xtick.major.width'   : 3,\n",
    "              'xtick.minor.size'    : 4,\n",
    "              'xtick.minor.width'   : 2,\n",
    "              'ytick.major.size'    : 8,\n",
    "              'ytick.major.width'   : 3,\n",
    "              'ytick.minor.size'    : 4,\n",
    "              'ytick.minor.width'   : 2, \n",
    "              'text.usetex'         : True,\n",
    "              'text.latex.unicode'  : True\n",
    "               }\n",
    "    plt.rcParams.update(params)\n",
    "\n",
    "    # initialize figure\n",
    "    fig = plt.figure(figsize =(12,12))\n",
    "    fig.subplots_adjust(hspace=0.0)\n",
    "    gs = gridspec.GridSpec(1, 1)\n",
    "    plt.rc('xtick')\n",
    "\n",
    "\n",
    "    # Initialize subplots\n",
    "    ax1 = fig.add_subplot(gs[0])\n",
    "    ax1.set_xlabel(r'Flux density [Jy]')\n",
    "    ax1.set_ylabel(r'Frequency [GHz]')\n",
    "    ax1.set_xscale(\"symlog\", nonposx='clip', linthreshy=0.1)\n",
    "    ax1.set_yscale(\"symlog\", nonposy='clip', linthreshy=0.1)\n",
    "    #ax1.set_xscale(\"log\", nonposx='clip')\n",
    "    #ax1.set_yscale(\"log\", nonposy='clip')\n",
    "    \n",
    "    xmin = np.nanmin([np.nanmin(ELobe[0,:]),np.nanmin(WLobe[0,:])])\n",
    "    xmax = np.nanmax([np.nanmax(ELobe[0,:]),np.nanmax(WLobe[0,:])])\n",
    "\n",
    "    ymin = np.nanmin([np.nanmin(ELobe[1,:]),np.nanmin(WLobe[1,:])])\n",
    "    \n",
    "    ymax = np.nanmax([np.nanmax(ELobe[1,:]),np.nanmax(WLobe[1,:])])\n",
    "    \n",
    "    #ax1.set_ylim([ymin*0.9,ymax*1.1])\n",
    "    #ax1.set_xlim([xmin*0.9,xmax*1.1])\n",
    "    ax1.tick_params(axis='both', which='major', pad=5)\n",
    "    \n",
    "    # MODELS\n",
    "    \n",
    "    ELobePlot = ax1.scatter(ELobe[0,:],ELobe[1,:],\n",
    "             marker='o', color='red',label='East Lobe',s=10) \n",
    "    #ELobePlot[-1][0].set_linestyle('--')\n",
    "    #ELobePlot[-1][0].set_linewidth(3)\n",
    "    \n",
    "    WLobePlot = ax1.scatter(WLobe[0,:],WLobe[1,:],\n",
    "             marker='o', color='blue',label='West Lobe',s=10) \n",
    "    #WLobePlot[-1][0].set_linestyle('--')\n",
    "    #WLobePlot[-1][0].set_linewidth(3)\n",
    "    \n",
    "    #CorePlot = ax1.errorbar(Core['Frequency [MHz]'],Core['Integrated Flux [Jy]'], yerr=Core['Error [Jy]'],\n",
    "     #$        marker='o', color='green', linestyle=' ',label='Core',capsize=6) \n",
    "    #CorePlot[-1][0].set_linestyle('--')\n",
    "    #CorePlot[-1][0].set_linewidth(3)\n",
    "\n",
    "\n",
    "\n",
    "    #totplot[-1][0].set_linestyle('--')\n",
    "    #totplot[-1][0].set_linewidth(3)    \n",
    "    #ax1.axvline(br_f_no217,ymin=0,ymax=0.73,ls='-.',c='cyan',lw=1) \n",
    "\n",
    "    legend = plt.legend(loc=1, prop={'size': 30})\n",
    "    legend.get_frame().set_edgecolor('black')\n",
    "\n",
    "    # Save figure to file\n",
    "    plt.savefig(outfile,overwrite = True)"
   ]
  },
  {
   "cell_type": "code",
   "execution_count": 72,
   "metadata": {
    "scrolled": false
   },
   "outputs": [
    {
     "data": {
      "image/png": "[encoded data removed]",
      "text/plain": [
       "<Figure size 864x864 with 1 Axes>"
      ]
     },
     "metadata": {},
     "output_type": "display_data"
    }
   ],
   "source": [
    "import pyregion\n",
    "synMap = rootDir+'JP_synage::JP_Shape.break_frequency.FITS_maskCut.fits'\n",
    "meerMap =  rootDir+'/inIms/CONVL/FINAL_Meer_1440MHz_pbcorr_pbcorr_maskCut.fits'\n",
    "\n",
    "region = [rootDir+'inIms/regions/EL.reg', rootDir+'inIms/regions/WL.reg']\n",
    "for i in xrange(0,len(region)):\n",
    "    \n",
    "    meerfile =  fits.open(meerMap)\n",
    "    \n",
    "    heads= meerfile[0].header\n",
    "    datas =meerfile[0].data\n",
    "    synfile =fits.open(synMap)\n",
    "    hh = synfile[0].header\n",
    "    dd = synfile[0].data\n",
    "    \n",
    "    r = pyregion.open(region[i]).as_imagecoord(heads)\n",
    "    shape = (heads['NAXIS2'], heads['NAXIS1'])\n",
    "    m = r.get_mask(shape=shape)\n",
    "    \n",
    "    ints = datas[m==True]\n",
    "    \n",
    "    breaks = dd[m==True]\n",
    "    \n",
    "    if i == 0:\n",
    "        ELobe = np.array([ints,breaks/1e3])\n",
    "    elif i ==1:\n",
    "        WLobe = np.array([ints,breaks/1e3])\n",
    "        \n",
    "                \n",
    "outBreakPlot = figDir+'lobesIntBreakcv217.png'\n",
    "\n",
    "plot_nubreakInt(ELobe,WLobe,outBreakPlot)\n",
    "    "
   ]
  },
  {
   "cell_type": "code",
   "execution_count": null,
   "metadata": {},
   "outputs": [],
   "source": []
  },
  {
   "cell_type": "code",
   "execution_count": null,
   "metadata": {},
   "outputs": [],
   "source": []
  }
 ],
 "metadata": {
  "kernelspec": {
   "display_name": "Python 2",
   "language": "python",
   "name": "python2"
  },
  "language_info": {
   "codemirror_mode": {
    "name": "ipython",
    "version": 2
   },
   "file_extension": ".py",
   "mimetype": "text/x-python",
   "name": "python",
   "nbconvert_exporter": "python",
   "pygments_lexer": "ipython2",
   "version": "2.7.15"
  }
 },
 "nbformat": 4,
 "nbformat_minor": 2
}
