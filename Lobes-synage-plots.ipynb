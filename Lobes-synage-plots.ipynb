{
 "cells": [
  {
   "cell_type": "markdown",
   "metadata": {},
   "source": [
    "## SED stats & plots\n",
    "\n",
    "- Read SYNAGE++ results\n",
    "- Plot SED and models\n"
   ]
  },
  {
   "cell_type": "code",
   "execution_count": 65,
   "metadata": {},
   "outputs": [
    {
     "name": "stdout",
     "output_type": "stream",
     "text": [
      "\t+---------+\n",
      "\t Inputs loaded\n",
      "\t+---------+\n"
     ]
    }
   ],
   "source": [
    "import numpy as np\n",
    "import shutil\n",
    "from astropy.io import ascii, fits\n",
    "import aplpy\n",
    "from matplotlib import pyplot as plt\n",
    "from matplotlib import rc\n",
    "from matplotlib import gridspec\n",
    "from matplotlib.ticker import AutoMinorLocator, MultipleLocator, LogLocator\n",
    "from matplotlib import transforms as mtransforms\n",
    "\n",
    "FA_radeg = 50.673825\n",
    "FA_decdeg = -37.208227\n",
    "\n",
    "BeamRa = 51.299614\n",
    "BeamDec = -37.707858\n",
    "\n",
    "rootDir = '/home/maccagni/Projects/MFS/FornaxA/contData/'\n",
    "\n",
    "figDir = rootDir+'contFigs/'\n",
    "\n",
    "outSynPlot = figDir+'lobesSynF8.png'\n",
    "synMap = rootDir+'synMaps/JP_synage::JP_Shape.break_frequency.FITS'\n",
    "\n",
    "\n",
    "print '''\\t+---------+\\n\\t Inputs loaded\\n\\t+---------+'''\n"
   ]
  },
  {
   "cell_type": "code",
   "execution_count": 81,
   "metadata": {
    "scrolled": false
   },
   "outputs": [
    {
     "name": "stderr",
     "output_type": "stream",
     "text": [
      "WARNING: Cannot determine equinox. Assuming J2000. [aplpy.wcs_util]\n",
      "WARNING: Cannot determine equinox. Assuming J2000. [aplpy.wcs_util]\n"
     ]
    },
    {
     "name": "stdout",
     "output_type": "stream",
     "text": [
      "\n",
      "\t-----> Loaded <-----\n"
     ]
    },
    {
     "data": {
      "image/png": "[encoded data removed]",
      "text/plain": [
       "<Figure size 864x864 with 2 Axes>"
      ]
     },
     "metadata": {},
     "output_type": "display_data"
    }
   ],
   "source": [
    "#-------------------------------------------------#\n",
    "# Plot SED\n",
    "#-------------------------------------------------#\n",
    "\n",
    "\n",
    "params = {'font.family'         :' serif',\n",
    "          'font.style'          : 'normal',\n",
    "          'font.weight'         : 'book',\n",
    "          'font.size'           : 18.0,\n",
    "          'axes.linewidth'      : 2,\n",
    "          'lines.linewidth'     : 2,\n",
    "          'xtick.labelsize'     : 24,\n",
    "          'ytick.labelsize'     : 24, \n",
    "          'xtick.direction'     :'in',\n",
    "          'ytick.direction'     :'in',\n",
    "          'xtick.major.size'    : 9,\n",
    "          'xtick.major.width'   : 2,\n",
    "          'xtick.minor.size'    : 6,\n",
    "          'xtick.minor.width'   : 2,\n",
    "          'ytick.major.size'    : 9,\n",
    "          'ytick.major.width'   : 2,\n",
    "          'ytick.minor.size'    : 6,\n",
    "          'ytick.minor.width'   : 2, \n",
    "          'text.usetex'         : True,\n",
    "          'text.latex.unicode'  : True\n",
    "           }\n",
    "plt.rcParams.update(params)\n",
    "\n",
    "#plot image\n",
    "a=synMap\n",
    "\n",
    "fig = plt.figure(figsize=(12, 12))\n",
    "\n",
    "f4 = aplpy.FITSFigure(a, figure=fig, subplot=(1,1,1))\n",
    "f4.show_colorscale(aspect='equal', cmap='RdYlBu_r',stretch = 'log',\n",
    "                    exponent=1,vmin=9e4,vmax=1.e5)\n",
    "f4.frame.set_linewidth(3)\n",
    "f4.recenter(FA_radeg,FA_decdeg,width=1.3,height=1.3)\n",
    "\n",
    "#f4.set_title('Break frequency map')\n",
    "\n",
    "f4.tick_labels.set_font( weight='book', \\\n",
    "                         stretch='normal', family='serif', \\\n",
    "                         style='normal', variant='normal',size=21) \n",
    "f4.axis_labels.set_font( weight='medium', \\\n",
    "                        stretch='semi-expanded', family='serif', \\\n",
    "                         style='normal', variant='normal',size=24)\n",
    "\n",
    "f4.tick_labels.set_xformat('hh:mm')\n",
    "\n",
    "f4.tick_labels.set_yformat('dd:mm')\n",
    "\n",
    "f4.axis_labels.set_xtext('Ra (J2000)')\n",
    "f4.axis_labels.set_ytext('Dec (J2000)')\n",
    "\n",
    "f4.ticks.set_color('k')\n",
    "f4.ticks.set_length(9)  # points\n",
    "f4.ticks.set_linewidth(3)  # points\n",
    "f4.ticks.set_minor_frequency(3)\n",
    "f4.ticks.show()\n",
    "\n",
    "\n",
    "f4.add_colorbar(log_format=True)\n",
    "#f4.colorbar.set_box([0.91, 0.08, 0.015, 0.85], box_orientation='vertical')\n",
    "f4.colorbar.set_ticks([90000,1e5])\n",
    "f4.colorbar.set_frame_linewidth(1)\n",
    "f4.colorbar.set_pad(0.2)\n",
    "f4.colorbar.set_font( weight='medium', \\\n",
    "                      stretch='semi-expanded', family='serif', \\\n",
    "                      style='normal', variant='normal',size=24)\n",
    "\n",
    "f4.colorbar.set_axis_label_text(r'MHz')\n",
    "\n",
    "f4.show_ellipses(BeamRa, BeamDec, 580./3600., 580./3600., angle=0, edgecolor='black',linewidth=2)\n",
    "\n",
    "fig.tight_layout()\n",
    "\n",
    "fig.savefig(outSynPlot,format='png',overwrite=True)\n",
    "\n",
    "\n",
    "print '\\n\\t-----> Loaded <-----'"
   ]
  },
  {
   "cell_type": "code",
   "execution_count": null,
   "metadata": {},
   "outputs": [],
   "source": []
  },
  {
   "cell_type": "code",
   "execution_count": null,
   "metadata": {},
   "outputs": [],
   "source": []
  }
 ],
 "metadata": {
  "kernelspec": {
   "display_name": "Python 2",
   "language": "python",
   "name": "python2"
  },
  "language_info": {
   "codemirror_mode": {
    "name": "ipython",
    "version": 2
   },
   "file_extension": ".py",
   "mimetype": "text/x-python",
   "name": "python",
   "nbconvert_exporter": "python",
   "pygments_lexer": "ipython2",
   "version": "2.7.15"
  }
 },
 "nbformat": 4,
 "nbformat_minor": 2
}
